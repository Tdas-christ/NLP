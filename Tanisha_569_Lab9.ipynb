{
  "nbformat": 4,
  "nbformat_minor": 0,
  "metadata": {
    "colab": {
      "provenance": []
    },
    "kernelspec": {
      "name": "python3",
      "display_name": "Python 3"
    },
    "language_info": {
      "name": "python"
    }
  },
  "cells": [
    {
      "cell_type": "markdown",
      "source": [
        "# **Program 1**"
      ],
      "metadata": {
        "id": "hNLXuxzs2HVi"
      }
    },
    {
      "cell_type": "code",
      "execution_count": null,
      "metadata": {
        "colab": {
          "base_uri": "https://localhost:8080/"
        },
        "id": "J8z22yFP0Lq0",
        "outputId": "189dd82c-145b-4ade-e3e1-6bab18bcec1c"
      },
      "outputs": [
        {
          "output_type": "stream",
          "name": "stdout",
          "text": [
            "Edit Distance between 'caring' and 'care': 3\n"
          ]
        }
      ],
      "source": [
        "def edit_distance(str1, str2):\n",
        "    m = len(str1)\n",
        "    n = len(str2)\n",
        "\n",
        "    # Create a table to store results of subproblems\n",
        "    dp = [[0] * (n + 1) for _ in range(m + 1)]\n",
        "\n",
        "    # Fill dp[][] in bottom-up manner\n",
        "    for i in range(m + 1):\n",
        "        for j in range(n + 1):\n",
        "            if i == 0:\n",
        "                dp[i][j] = j  # Min. operations = j\n",
        "            elif j == 0:\n",
        "                dp[i][j] = i  # Min. operations = i\n",
        "            elif str1[i - 1] == str2[j - 1]:\n",
        "                dp[i][j] = dp[i - 1][j - 1]\n",
        "            else:\n",
        "                dp[i][j] = 1 + min(dp[i][j - 1],        # Insert\n",
        "                                   dp[i - 1][j],        # Remove\n",
        "                                   dp[i - 1][j - 1])   # Replace\n",
        "\n",
        "    return dp[m][n]\n",
        "\n",
        "# Example usage:\n",
        "str1 = \"caring\"\n",
        "str2 = \"care\"\n",
        "print(\"Edit Distance between '{}' and '{}': {}\".format(str1, str2, edit_distance(str1, str2)))\n"
      ]
    },
    {
      "cell_type": "markdown",
      "source": [
        "# **Program 2**"
      ],
      "metadata": {
        "id": "l5m74MjC_FIa"
      }
    },
    {
      "cell_type": "code",
      "source": [
        "nltk.download('wordnet')"
      ],
      "metadata": {
        "colab": {
          "base_uri": "https://localhost:8080/"
        },
        "id": "iL1gtnKN-F3M",
        "outputId": "0a6d072b-3e31-4d90-e480-b386e8d4a442"
      },
      "execution_count": null,
      "outputs": [
        {
          "output_type": "stream",
          "name": "stderr",
          "text": [
            "[nltk_data] Downloading package wordnet to /root/nltk_data...\n"
          ]
        },
        {
          "output_type": "execute_result",
          "data": {
            "text/plain": [
              "True"
            ]
          },
          "metadata": {},
          "execution_count": 4
        }
      ]
    },
    {
      "cell_type": "code",
      "source": [
        "import random\n",
        "import nltk\n",
        "from nltk.corpus import wordnet\n",
        "\n",
        "def generate_haiku(keywords):\n",
        "    haiku_templates = [\n",
        "        (\"{} in twilight's hue,\\nSilent shadows whispering,\\n{} dreams take flight.\"),\n",
        "        (\"{} under moon's light,\\nWhispers of the wind's embrace,\\n{}'s heart beats as one.\"),\n",
        "        (\"In {}'s gentle glow,\\nNature's symphony unfurls,\\n{}'s soul finds solace.\")\n",
        "    ]\n",
        "\n",
        "    keyword_mapping = {\n",
        "        \"mountain\": [\"majestic\", \"serene\", \"towering\"],\n",
        "        \"river\": [\"meandering\", \"crystal-clear\", \"rippling\"],\n",
        "        \"forest\": [\"ancient\", \"lush\", \"enchanting\"],\n",
        "        \"ocean\": [\"vast\", \"endless\", \"mysterious\"]\n",
        "    }\n",
        "\n",
        "    keyword = random.choice(keywords)\n",
        "    haiku_template = random.choice(haiku_templates)\n",
        "    attribute = random.choice(keyword_mapping[keyword])\n",
        "\n",
        "    # Use WordNet to get synonyms for keywords\n",
        "    synonyms = set()\n",
        "    for syn in wordnet.synsets(keyword):\n",
        "        for lemma in syn.lemmas():\n",
        "            synonyms.add(lemma.name())\n",
        "    synonyms = list(synonyms)\n",
        "\n",
        "    # Replace keyword in haiku template with a synonym\n",
        "    haiku = haiku_template.format(random.choice(synonyms), attribute)\n",
        "\n",
        "    return haiku\n",
        "\n",
        "# Example usage:\n",
        "keywords = [\"mountain\", \"river\", \"forest\", \"ocean\"]\n",
        "haiku = generate_haiku(keywords)\n",
        "print(haiku)\n"
      ],
      "metadata": {
        "colab": {
          "base_uri": "https://localhost:8080/"
        },
        "id": "hcn6HgsK0mj_",
        "outputId": "65efbfd8-0414-40d3-8348-ef1a8bc92947"
      },
      "execution_count": 10,
      "outputs": [
        {
          "output_type": "stream",
          "name": "stdout",
          "text": [
            "ocean under moon's light,\n",
            "Whispers of the wind's embrace,\n",
            "vast's heart beats as one.\n"
          ]
        }
      ]
    }
  ]
}