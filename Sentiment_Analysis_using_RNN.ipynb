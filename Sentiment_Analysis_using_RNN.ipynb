{
  "nbformat": 4,
  "nbformat_minor": 0,
  "metadata": {
    "colab": {
      "provenance": [],
      "gpuType": "T4",
      "mount_file_id": "1qTiVbZkdjg02m4wDXe6ufCHR86qgxpTp",
      "authorship_tag": "ABX9TyNeNAOuvIjBVbR8w9Ag5jME",
      "include_colab_link": true
    },
    "kernelspec": {
      "name": "python3",
      "display_name": "Python 3"
    },
    "language_info": {
      "name": "python"
    },
    "accelerator": "GPU"
  },
  "cells": [
    {
      "cell_type": "markdown",
      "metadata": {
        "id": "view-in-github",
        "colab_type": "text"
      },
      "source": [
        "<a href=\"https://colab.research.google.com/github/Tdas-christ/NLP/blob/main/Sentiment_Analysis_using_RNN.ipynb\" target=\"_parent\"><img src=\"https://colab.research.google.com/assets/colab-badge.svg\" alt=\"Open In Colab\"/></a>"
      ]
    },
    {
      "cell_type": "code",
      "execution_count": 1,
      "metadata": {
        "id": "RsdmmxPRS3x-"
      },
      "outputs": [],
      "source": [
        "import numpy as np\n",
        "import pandas as pd\n",
        "import tensorflow as tf\n",
        "from tensorflow.keras.preprocessing.text import Tokenizer\n",
        "from tensorflow.keras.preprocessing.sequence import pad_sequences\n",
        "from tensorflow.keras.layers import LSTM, Embedding, Dense, Dropout, Bidirectional\n",
        "from tensorflow.keras.models import Sequential\n",
        "from tensorflow.keras.losses import CategoricalCrossentropy\n",
        "from sklearn.preprocessing import LabelEncoder"
      ]
    },
    {
      "cell_type": "code",
      "source": [
        "# Load the dataset\n",
        "df = pd.read_csv('/content/drive/MyDrive/DATASETS/twitter_training.csv')"
      ],
      "metadata": {
        "id": "S9dsVsVqTyeW"
      },
      "execution_count": 2,
      "outputs": []
    },
    {
      "cell_type": "code",
      "source": [
        "df.sample(10)"
      ],
      "metadata": {
        "colab": {
          "base_uri": "https://localhost:8080/",
          "height": 363
        },
        "id": "4AGtw1OFUBpF",
        "outputId": "7affbee0-5cfc-4d70-f106-6ca2de664ae2"
      },
      "execution_count": 3,
      "outputs": [
        {
          "output_type": "execute_result",
          "data": {
            "text/plain": [
              "        2401             Borderlands    Positive  \\\n",
              "60121   3503                Facebook  Irrelevant   \n",
              "49514   6100                    FIFA    Negative   \n",
              "20553  12719            WorldOfCraft    Negative   \n",
              "51740  10486  RedDeadRedemption(RDR)    Negative   \n",
              "67753   3604           Cyberpunk2077     Neutral   \n",
              "72729   8859                  Nvidia    Positive   \n",
              "4897      42                  Amazon     Neutral   \n",
              "64457   7843               MaddenNFL    Negative   \n",
              "69951   3985           Cyberpunk2077     Neutral   \n",
              "20474  12705            WorldOfCraft    Positive   \n",
              "\n",
              "      im getting on borderlands and i will murder you all ,  \n",
              "60121  During the lockout I will cry about my salary....     \n",
              "49514                                  The absolute core     \n",
              "20553  @Warcraft what powers on earth have had you no...     \n",
              "51740  Update: closed and restarted game. Still waiti...     \n",
              "67753                                      Fuck, well ok     \n",
              "72729  Fuck everything ever except the Nvidia GeForce...     \n",
              "4897   At the same time, despite the fact that there ...     \n",
              "64457  Larry Fitzgerald not being in the top 3 on thi...     \n",
              "69951                                                NaN     \n",
              "20474               In best Warcraft peon systems work.”     "
            ],
            "text/html": [
              "\n",
              "  <div id=\"df-c1e4a3b0-88ad-4b8a-a1f7-340608365b6f\" class=\"colab-df-container\">\n",
              "    <div>\n",
              "<style scoped>\n",
              "    .dataframe tbody tr th:only-of-type {\n",
              "        vertical-align: middle;\n",
              "    }\n",
              "\n",
              "    .dataframe tbody tr th {\n",
              "        vertical-align: top;\n",
              "    }\n",
              "\n",
              "    .dataframe thead th {\n",
              "        text-align: right;\n",
              "    }\n",
              "</style>\n",
              "<table border=\"1\" class=\"dataframe\">\n",
              "  <thead>\n",
              "    <tr style=\"text-align: right;\">\n",
              "      <th></th>\n",
              "      <th>2401</th>\n",
              "      <th>Borderlands</th>\n",
              "      <th>Positive</th>\n",
              "      <th>im getting on borderlands and i will murder you all ,</th>\n",
              "    </tr>\n",
              "  </thead>\n",
              "  <tbody>\n",
              "    <tr>\n",
              "      <th>60121</th>\n",
              "      <td>3503</td>\n",
              "      <td>Facebook</td>\n",
              "      <td>Irrelevant</td>\n",
              "      <td>During the lockout I will cry about my salary....</td>\n",
              "    </tr>\n",
              "    <tr>\n",
              "      <th>49514</th>\n",
              "      <td>6100</td>\n",
              "      <td>FIFA</td>\n",
              "      <td>Negative</td>\n",
              "      <td>The absolute core</td>\n",
              "    </tr>\n",
              "    <tr>\n",
              "      <th>20553</th>\n",
              "      <td>12719</td>\n",
              "      <td>WorldOfCraft</td>\n",
              "      <td>Negative</td>\n",
              "      <td>@Warcraft what powers on earth have had you no...</td>\n",
              "    </tr>\n",
              "    <tr>\n",
              "      <th>51740</th>\n",
              "      <td>10486</td>\n",
              "      <td>RedDeadRedemption(RDR)</td>\n",
              "      <td>Negative</td>\n",
              "      <td>Update: closed and restarted game. Still waiti...</td>\n",
              "    </tr>\n",
              "    <tr>\n",
              "      <th>67753</th>\n",
              "      <td>3604</td>\n",
              "      <td>Cyberpunk2077</td>\n",
              "      <td>Neutral</td>\n",
              "      <td>Fuck, well ok</td>\n",
              "    </tr>\n",
              "    <tr>\n",
              "      <th>72729</th>\n",
              "      <td>8859</td>\n",
              "      <td>Nvidia</td>\n",
              "      <td>Positive</td>\n",
              "      <td>Fuck everything ever except the Nvidia GeForce...</td>\n",
              "    </tr>\n",
              "    <tr>\n",
              "      <th>4897</th>\n",
              "      <td>42</td>\n",
              "      <td>Amazon</td>\n",
              "      <td>Neutral</td>\n",
              "      <td>At the same time, despite the fact that there ...</td>\n",
              "    </tr>\n",
              "    <tr>\n",
              "      <th>64457</th>\n",
              "      <td>7843</td>\n",
              "      <td>MaddenNFL</td>\n",
              "      <td>Negative</td>\n",
              "      <td>Larry Fitzgerald not being in the top 3 on thi...</td>\n",
              "    </tr>\n",
              "    <tr>\n",
              "      <th>69951</th>\n",
              "      <td>3985</td>\n",
              "      <td>Cyberpunk2077</td>\n",
              "      <td>Neutral</td>\n",
              "      <td>NaN</td>\n",
              "    </tr>\n",
              "    <tr>\n",
              "      <th>20474</th>\n",
              "      <td>12705</td>\n",
              "      <td>WorldOfCraft</td>\n",
              "      <td>Positive</td>\n",
              "      <td>In best Warcraft peon systems work.”</td>\n",
              "    </tr>\n",
              "  </tbody>\n",
              "</table>\n",
              "</div>\n",
              "    <div class=\"colab-df-buttons\">\n",
              "\n",
              "  <div class=\"colab-df-container\">\n",
              "    <button class=\"colab-df-convert\" onclick=\"convertToInteractive('df-c1e4a3b0-88ad-4b8a-a1f7-340608365b6f')\"\n",
              "            title=\"Convert this dataframe to an interactive table.\"\n",
              "            style=\"display:none;\">\n",
              "\n",
              "  <svg xmlns=\"http://www.w3.org/2000/svg\" height=\"24px\" viewBox=\"0 -960 960 960\">\n",
              "    <path d=\"M120-120v-720h720v720H120Zm60-500h600v-160H180v160Zm220 220h160v-160H400v160Zm0 220h160v-160H400v160ZM180-400h160v-160H180v160Zm440 0h160v-160H620v160ZM180-180h160v-160H180v160Zm440 0h160v-160H620v160Z\"/>\n",
              "  </svg>\n",
              "    </button>\n",
              "\n",
              "  <style>\n",
              "    .colab-df-container {\n",
              "      display:flex;\n",
              "      gap: 12px;\n",
              "    }\n",
              "\n",
              "    .colab-df-convert {\n",
              "      background-color: #E8F0FE;\n",
              "      border: none;\n",
              "      border-radius: 50%;\n",
              "      cursor: pointer;\n",
              "      display: none;\n",
              "      fill: #1967D2;\n",
              "      height: 32px;\n",
              "      padding: 0 0 0 0;\n",
              "      width: 32px;\n",
              "    }\n",
              "\n",
              "    .colab-df-convert:hover {\n",
              "      background-color: #E2EBFA;\n",
              "      box-shadow: 0px 1px 2px rgba(60, 64, 67, 0.3), 0px 1px 3px 1px rgba(60, 64, 67, 0.15);\n",
              "      fill: #174EA6;\n",
              "    }\n",
              "\n",
              "    .colab-df-buttons div {\n",
              "      margin-bottom: 4px;\n",
              "    }\n",
              "\n",
              "    [theme=dark] .colab-df-convert {\n",
              "      background-color: #3B4455;\n",
              "      fill: #D2E3FC;\n",
              "    }\n",
              "\n",
              "    [theme=dark] .colab-df-convert:hover {\n",
              "      background-color: #434B5C;\n",
              "      box-shadow: 0px 1px 3px 1px rgba(0, 0, 0, 0.15);\n",
              "      filter: drop-shadow(0px 1px 2px rgba(0, 0, 0, 0.3));\n",
              "      fill: #FFFFFF;\n",
              "    }\n",
              "  </style>\n",
              "\n",
              "    <script>\n",
              "      const buttonEl =\n",
              "        document.querySelector('#df-c1e4a3b0-88ad-4b8a-a1f7-340608365b6f button.colab-df-convert');\n",
              "      buttonEl.style.display =\n",
              "        google.colab.kernel.accessAllowed ? 'block' : 'none';\n",
              "\n",
              "      async function convertToInteractive(key) {\n",
              "        const element = document.querySelector('#df-c1e4a3b0-88ad-4b8a-a1f7-340608365b6f');\n",
              "        const dataTable =\n",
              "          await google.colab.kernel.invokeFunction('convertToInteractive',\n",
              "                                                    [key], {});\n",
              "        if (!dataTable) return;\n",
              "\n",
              "        const docLinkHtml = 'Like what you see? Visit the ' +\n",
              "          '<a target=\"_blank\" href=https://colab.research.google.com/notebooks/data_table.ipynb>data table notebook</a>'\n",
              "          + ' to learn more about interactive tables.';\n",
              "        element.innerHTML = '';\n",
              "        dataTable['output_type'] = 'display_data';\n",
              "        await google.colab.output.renderOutput(dataTable, element);\n",
              "        const docLink = document.createElement('div');\n",
              "        docLink.innerHTML = docLinkHtml;\n",
              "        element.appendChild(docLink);\n",
              "      }\n",
              "    </script>\n",
              "  </div>\n",
              "\n",
              "\n",
              "<div id=\"df-46ce0b9b-5214-43d1-9905-b79a6fc70a12\">\n",
              "  <button class=\"colab-df-quickchart\" onclick=\"quickchart('df-46ce0b9b-5214-43d1-9905-b79a6fc70a12')\"\n",
              "            title=\"Suggest charts\"\n",
              "            style=\"display:none;\">\n",
              "\n",
              "<svg xmlns=\"http://www.w3.org/2000/svg\" height=\"24px\"viewBox=\"0 0 24 24\"\n",
              "     width=\"24px\">\n",
              "    <g>\n",
              "        <path d=\"M19 3H5c-1.1 0-2 .9-2 2v14c0 1.1.9 2 2 2h14c1.1 0 2-.9 2-2V5c0-1.1-.9-2-2-2zM9 17H7v-7h2v7zm4 0h-2V7h2v10zm4 0h-2v-4h2v4z\"/>\n",
              "    </g>\n",
              "</svg>\n",
              "  </button>\n",
              "\n",
              "<style>\n",
              "  .colab-df-quickchart {\n",
              "      --bg-color: #E8F0FE;\n",
              "      --fill-color: #1967D2;\n",
              "      --hover-bg-color: #E2EBFA;\n",
              "      --hover-fill-color: #174EA6;\n",
              "      --disabled-fill-color: #AAA;\n",
              "      --disabled-bg-color: #DDD;\n",
              "  }\n",
              "\n",
              "  [theme=dark] .colab-df-quickchart {\n",
              "      --bg-color: #3B4455;\n",
              "      --fill-color: #D2E3FC;\n",
              "      --hover-bg-color: #434B5C;\n",
              "      --hover-fill-color: #FFFFFF;\n",
              "      --disabled-bg-color: #3B4455;\n",
              "      --disabled-fill-color: #666;\n",
              "  }\n",
              "\n",
              "  .colab-df-quickchart {\n",
              "    background-color: var(--bg-color);\n",
              "    border: none;\n",
              "    border-radius: 50%;\n",
              "    cursor: pointer;\n",
              "    display: none;\n",
              "    fill: var(--fill-color);\n",
              "    height: 32px;\n",
              "    padding: 0;\n",
              "    width: 32px;\n",
              "  }\n",
              "\n",
              "  .colab-df-quickchart:hover {\n",
              "    background-color: var(--hover-bg-color);\n",
              "    box-shadow: 0 1px 2px rgba(60, 64, 67, 0.3), 0 1px 3px 1px rgba(60, 64, 67, 0.15);\n",
              "    fill: var(--button-hover-fill-color);\n",
              "  }\n",
              "\n",
              "  .colab-df-quickchart-complete:disabled,\n",
              "  .colab-df-quickchart-complete:disabled:hover {\n",
              "    background-color: var(--disabled-bg-color);\n",
              "    fill: var(--disabled-fill-color);\n",
              "    box-shadow: none;\n",
              "  }\n",
              "\n",
              "  .colab-df-spinner {\n",
              "    border: 2px solid var(--fill-color);\n",
              "    border-color: transparent;\n",
              "    border-bottom-color: var(--fill-color);\n",
              "    animation:\n",
              "      spin 1s steps(1) infinite;\n",
              "  }\n",
              "\n",
              "  @keyframes spin {\n",
              "    0% {\n",
              "      border-color: transparent;\n",
              "      border-bottom-color: var(--fill-color);\n",
              "      border-left-color: var(--fill-color);\n",
              "    }\n",
              "    20% {\n",
              "      border-color: transparent;\n",
              "      border-left-color: var(--fill-color);\n",
              "      border-top-color: var(--fill-color);\n",
              "    }\n",
              "    30% {\n",
              "      border-color: transparent;\n",
              "      border-left-color: var(--fill-color);\n",
              "      border-top-color: var(--fill-color);\n",
              "      border-right-color: var(--fill-color);\n",
              "    }\n",
              "    40% {\n",
              "      border-color: transparent;\n",
              "      border-right-color: var(--fill-color);\n",
              "      border-top-color: var(--fill-color);\n",
              "    }\n",
              "    60% {\n",
              "      border-color: transparent;\n",
              "      border-right-color: var(--fill-color);\n",
              "    }\n",
              "    80% {\n",
              "      border-color: transparent;\n",
              "      border-right-color: var(--fill-color);\n",
              "      border-bottom-color: var(--fill-color);\n",
              "    }\n",
              "    90% {\n",
              "      border-color: transparent;\n",
              "      border-bottom-color: var(--fill-color);\n",
              "    }\n",
              "  }\n",
              "</style>\n",
              "\n",
              "  <script>\n",
              "    async function quickchart(key) {\n",
              "      const quickchartButtonEl =\n",
              "        document.querySelector('#' + key + ' button');\n",
              "      quickchartButtonEl.disabled = true;  // To prevent multiple clicks.\n",
              "      quickchartButtonEl.classList.add('colab-df-spinner');\n",
              "      try {\n",
              "        const charts = await google.colab.kernel.invokeFunction(\n",
              "            'suggestCharts', [key], {});\n",
              "      } catch (error) {\n",
              "        console.error('Error during call to suggestCharts:', error);\n",
              "      }\n",
              "      quickchartButtonEl.classList.remove('colab-df-spinner');\n",
              "      quickchartButtonEl.classList.add('colab-df-quickchart-complete');\n",
              "    }\n",
              "    (() => {\n",
              "      let quickchartButtonEl =\n",
              "        document.querySelector('#df-46ce0b9b-5214-43d1-9905-b79a6fc70a12 button');\n",
              "      quickchartButtonEl.style.display =\n",
              "        google.colab.kernel.accessAllowed ? 'block' : 'none';\n",
              "    })();\n",
              "  </script>\n",
              "</div>\n",
              "    </div>\n",
              "  </div>\n"
            ],
            "application/vnd.google.colaboratory.intrinsic+json": {
              "type": "dataframe",
              "summary": "{\n  \"name\": \"df\",\n  \"rows\": 10,\n  \"fields\": [\n    {\n      \"column\": \"2401\",\n      \"properties\": {\n        \"dtype\": \"number\",\n        \"std\": 4264,\n        \"min\": 42,\n        \"max\": 12719,\n        \"num_unique_values\": 10,\n        \"samples\": [\n          3985,\n          6100,\n          8859\n        ],\n        \"semantic_type\": \"\",\n        \"description\": \"\"\n      }\n    },\n    {\n      \"column\": \"Borderlands\",\n      \"properties\": {\n        \"dtype\": \"string\",\n        \"num_unique_values\": 8,\n        \"samples\": [\n          \"FIFA\",\n          \"Nvidia\",\n          \"Facebook\"\n        ],\n        \"semantic_type\": \"\",\n        \"description\": \"\"\n      }\n    },\n    {\n      \"column\": \"Positive\",\n      \"properties\": {\n        \"dtype\": \"category\",\n        \"num_unique_values\": 4,\n        \"samples\": [\n          \"Negative\",\n          \"Positive\",\n          \"Irrelevant\"\n        ],\n        \"semantic_type\": \"\",\n        \"description\": \"\"\n      }\n    },\n    {\n      \"column\": \"im getting on borderlands and i will murder you all ,\",\n      \"properties\": {\n        \"dtype\": \"string\",\n        \"num_unique_values\": 9,\n        \"samples\": [\n          \"Larry Fitzgerald not being in the top 3 on this list is an absolute travesty\",\n          \"The absolute core\",\n          \"Fuck everything ever except the Nvidia GeForce RTX 2080 and Ti.\"\n        ],\n        \"semantic_type\": \"\",\n        \"description\": \"\"\n      }\n    }\n  ]\n}"
            }
          },
          "metadata": {},
          "execution_count": 3
        }
      ]
    },
    {
      "cell_type": "code",
      "source": [
        "df.shape"
      ],
      "metadata": {
        "colab": {
          "base_uri": "https://localhost:8080/"
        },
        "id": "wgjEXGu5UDic",
        "outputId": "1af0c9a4-3938-40b6-bc51-d6c2247633f9"
      },
      "execution_count": 4,
      "outputs": [
        {
          "output_type": "execute_result",
          "data": {
            "text/plain": [
              "(74681, 4)"
            ]
          },
          "metadata": {},
          "execution_count": 4
        }
      ]
    },
    {
      "cell_type": "code",
      "source": [
        "df.info()"
      ],
      "metadata": {
        "colab": {
          "base_uri": "https://localhost:8080/"
        },
        "id": "7FN9gtGVUEg8",
        "outputId": "fc4062fa-51c9-4d96-c30a-0c72b0b9ec6b"
      },
      "execution_count": 5,
      "outputs": [
        {
          "output_type": "stream",
          "name": "stdout",
          "text": [
            "<class 'pandas.core.frame.DataFrame'>\n",
            "RangeIndex: 74681 entries, 0 to 74680\n",
            "Data columns (total 4 columns):\n",
            " #   Column                                                 Non-Null Count  Dtype \n",
            "---  ------                                                 --------------  ----- \n",
            " 0   2401                                                   74681 non-null  int64 \n",
            " 1   Borderlands                                            74681 non-null  object\n",
            " 2   Positive                                               74681 non-null  object\n",
            " 3   im getting on borderlands and i will murder you all ,  73995 non-null  object\n",
            "dtypes: int64(1), object(3)\n",
            "memory usage: 2.3+ MB\n"
          ]
        }
      ]
    },
    {
      "cell_type": "code",
      "source": [
        "df.rename(columns={'im getting on borderlands and i will murder you all ,': 'text'}, inplace=True)"
      ],
      "metadata": {
        "id": "i0cSgO1SVKJc"
      },
      "execution_count": 6,
      "outputs": []
    },
    {
      "cell_type": "code",
      "source": [
        "df.isnull().sum()"
      ],
      "metadata": {
        "colab": {
          "base_uri": "https://localhost:8080/"
        },
        "id": "-LL79HrZUFxo",
        "outputId": "27168735-5a8a-4fe8-f060-d23394412ae2"
      },
      "execution_count": 7,
      "outputs": [
        {
          "output_type": "execute_result",
          "data": {
            "text/plain": [
              "2401             0\n",
              "Borderlands      0\n",
              "Positive         0\n",
              "text           686\n",
              "dtype: int64"
            ]
          },
          "metadata": {},
          "execution_count": 7
        }
      ]
    },
    {
      "cell_type": "code",
      "source": [
        "df.isnull().mean()"
      ],
      "metadata": {
        "colab": {
          "base_uri": "https://localhost:8080/"
        },
        "id": "yhhxxhHaUkH0",
        "outputId": "3f4f7436-ba26-454c-ffcf-90b50d82e816"
      },
      "execution_count": 8,
      "outputs": [
        {
          "output_type": "execute_result",
          "data": {
            "text/plain": [
              "2401           0.000000\n",
              "Borderlands    0.000000\n",
              "Positive       0.000000\n",
              "text           0.009186\n",
              "dtype: float64"
            ]
          },
          "metadata": {},
          "execution_count": 8
        }
      ]
    },
    {
      "cell_type": "code",
      "source": [
        "df = df.dropna()"
      ],
      "metadata": {
        "id": "UhXpo0AvUdgz"
      },
      "execution_count": 9,
      "outputs": []
    },
    {
      "cell_type": "code",
      "source": [
        "df.isnull().sum()"
      ],
      "metadata": {
        "colab": {
          "base_uri": "https://localhost:8080/"
        },
        "id": "R4jTpTG6UgK2",
        "outputId": "59159b5b-139f-4ed2-ce10-494f443f100c"
      },
      "execution_count": 10,
      "outputs": [
        {
          "output_type": "execute_result",
          "data": {
            "text/plain": [
              "2401           0\n",
              "Borderlands    0\n",
              "Positive       0\n",
              "text           0\n",
              "dtype: int64"
            ]
          },
          "metadata": {},
          "execution_count": 10
        }
      ]
    },
    {
      "cell_type": "code",
      "source": [
        "df.shape"
      ],
      "metadata": {
        "colab": {
          "base_uri": "https://localhost:8080/"
        },
        "id": "ISszYyiIUq6U",
        "outputId": "e3af7388-8d1f-4129-ea1f-2a8a507fdb82"
      },
      "execution_count": 11,
      "outputs": [
        {
          "output_type": "execute_result",
          "data": {
            "text/plain": [
              "(73995, 4)"
            ]
          },
          "metadata": {},
          "execution_count": 11
        }
      ]
    },
    {
      "cell_type": "code",
      "source": [
        "df['Positive'].value_counts()"
      ],
      "metadata": {
        "colab": {
          "base_uri": "https://localhost:8080/"
        },
        "id": "fNm-_QrLvS34",
        "outputId": "1e551653-3a01-4d92-8c48-b3f0efaac89d"
      },
      "execution_count": 12,
      "outputs": [
        {
          "output_type": "execute_result",
          "data": {
            "text/plain": [
              "Negative      22358\n",
              "Positive      20654\n",
              "Neutral       18108\n",
              "Irrelevant    12875\n",
              "Name: Positive, dtype: int64"
            ]
          },
          "metadata": {},
          "execution_count": 12
        }
      ]
    },
    {
      "cell_type": "code",
      "source": [
        "#Tokenize the text\n",
        "tokenizer = Tokenizer(num_words=10000)\n",
        "tokenizer.fit_on_texts(df['text'])"
      ],
      "metadata": {
        "id": "S8lRJ0kTUAst"
      },
      "execution_count": 13,
      "outputs": []
    },
    {
      "cell_type": "code",
      "source": [
        "test_df = pd.read_csv('/content/drive/MyDrive/DATASETS/twitter_validation.csv')"
      ],
      "metadata": {
        "id": "Z7JWQ3gxVR3N"
      },
      "execution_count": 14,
      "outputs": []
    },
    {
      "cell_type": "code",
      "source": [
        "test_df.sample(10)"
      ],
      "metadata": {
        "colab": {
          "base_uri": "https://localhost:8080/",
          "height": 398
        },
        "id": "3Y0aL1nUVyj7",
        "outputId": "953cdd3c-43bd-4d24-fbc4-90a398bab6b8"
      },
      "execution_count": 15,
      "outputs": [
        {
          "output_type": "execute_result",
          "data": {
            "text/plain": [
              "      3364                   Facebook  Irrelevant  \\\n",
              "115   9149                     Nvidia     Neutral   \n",
              "935   5987                  HomeDepot    Negative   \n",
              "55    1725  CallOfDutyBlackopsColdWar    Positive   \n",
              "798  12882              Xbox(Xseries)    Positive   \n",
              "782    970             AssassinsCreed    Positive   \n",
              "385   9864          PlayStation5(PS5)     Neutral   \n",
              "297   3312                   Facebook     Neutral   \n",
              "213   1551                Battlefield  Irrelevant   \n",
              "203   2847                      Dota2    Positive   \n",
              "441   9452                  Overwatch    Positive   \n",
              "\n",
              "    I mentioned on Facebook that I was struggling for motivation to go for a run the other day, which has been translated by Tom’s great auntie as ‘Hayley can’t get out of bed’ and told to his grandma, who now thinks I’m a lazy, terrible person 🤣  \n",
              "115  The Nvidia Shield is my daily driver but I lik...                                                                                                                                                                                                  \n",
              "935  @HomeDepot   Your customer service is atrociou...                                                                                                                                                                                                  \n",
              "55                              I like the killstreaks                                                                                                                                                                                                  \n",
              "798         Getting strong Netflix vibes and I like it                                                                                                                                                                                                  \n",
              "782  It's kind of incredible what games I'll be get...                                                                                                                                                                                                  \n",
              "385  I don't know what you people have been doing o...                                                                                                                                                                                                  \n",
              "297  House Democrats say Facebook, Amazon, Alphabet...                                                                                                                                                                                                  \n",
              "213      Really good in-depth video, highly recommend.                                                                                                                                                                                                  \n",
              "203  Pre-Covid: Student Game day! Introducing stude...                                                                                                                                                                                                  \n",
              "441  I started playing Overwatch (on Switch) right ...                                                                                                                                                                                                  "
            ],
            "text/html": [
              "\n",
              "  <div id=\"df-adb1cb4c-b51f-43a4-96b5-d46ee87d57e6\" class=\"colab-df-container\">\n",
              "    <div>\n",
              "<style scoped>\n",
              "    .dataframe tbody tr th:only-of-type {\n",
              "        vertical-align: middle;\n",
              "    }\n",
              "\n",
              "    .dataframe tbody tr th {\n",
              "        vertical-align: top;\n",
              "    }\n",
              "\n",
              "    .dataframe thead th {\n",
              "        text-align: right;\n",
              "    }\n",
              "</style>\n",
              "<table border=\"1\" class=\"dataframe\">\n",
              "  <thead>\n",
              "    <tr style=\"text-align: right;\">\n",
              "      <th></th>\n",
              "      <th>3364</th>\n",
              "      <th>Facebook</th>\n",
              "      <th>Irrelevant</th>\n",
              "      <th>I mentioned on Facebook that I was struggling for motivation to go for a run the other day, which has been translated by Tom’s great auntie as ‘Hayley can’t get out of bed’ and told to his grandma, who now thinks I’m a lazy, terrible person 🤣</th>\n",
              "    </tr>\n",
              "  </thead>\n",
              "  <tbody>\n",
              "    <tr>\n",
              "      <th>115</th>\n",
              "      <td>9149</td>\n",
              "      <td>Nvidia</td>\n",
              "      <td>Neutral</td>\n",
              "      <td>The Nvidia Shield is my daily driver but I lik...</td>\n",
              "    </tr>\n",
              "    <tr>\n",
              "      <th>935</th>\n",
              "      <td>5987</td>\n",
              "      <td>HomeDepot</td>\n",
              "      <td>Negative</td>\n",
              "      <td>@HomeDepot   Your customer service is atrociou...</td>\n",
              "    </tr>\n",
              "    <tr>\n",
              "      <th>55</th>\n",
              "      <td>1725</td>\n",
              "      <td>CallOfDutyBlackopsColdWar</td>\n",
              "      <td>Positive</td>\n",
              "      <td>I like the killstreaks</td>\n",
              "    </tr>\n",
              "    <tr>\n",
              "      <th>798</th>\n",
              "      <td>12882</td>\n",
              "      <td>Xbox(Xseries)</td>\n",
              "      <td>Positive</td>\n",
              "      <td>Getting strong Netflix vibes and I like it</td>\n",
              "    </tr>\n",
              "    <tr>\n",
              "      <th>782</th>\n",
              "      <td>970</td>\n",
              "      <td>AssassinsCreed</td>\n",
              "      <td>Positive</td>\n",
              "      <td>It's kind of incredible what games I'll be get...</td>\n",
              "    </tr>\n",
              "    <tr>\n",
              "      <th>385</th>\n",
              "      <td>9864</td>\n",
              "      <td>PlayStation5(PS5)</td>\n",
              "      <td>Neutral</td>\n",
              "      <td>I don't know what you people have been doing o...</td>\n",
              "    </tr>\n",
              "    <tr>\n",
              "      <th>297</th>\n",
              "      <td>3312</td>\n",
              "      <td>Facebook</td>\n",
              "      <td>Neutral</td>\n",
              "      <td>House Democrats say Facebook, Amazon, Alphabet...</td>\n",
              "    </tr>\n",
              "    <tr>\n",
              "      <th>213</th>\n",
              "      <td>1551</td>\n",
              "      <td>Battlefield</td>\n",
              "      <td>Irrelevant</td>\n",
              "      <td>Really good in-depth video, highly recommend.</td>\n",
              "    </tr>\n",
              "    <tr>\n",
              "      <th>203</th>\n",
              "      <td>2847</td>\n",
              "      <td>Dota2</td>\n",
              "      <td>Positive</td>\n",
              "      <td>Pre-Covid: Student Game day! Introducing stude...</td>\n",
              "    </tr>\n",
              "    <tr>\n",
              "      <th>441</th>\n",
              "      <td>9452</td>\n",
              "      <td>Overwatch</td>\n",
              "      <td>Positive</td>\n",
              "      <td>I started playing Overwatch (on Switch) right ...</td>\n",
              "    </tr>\n",
              "  </tbody>\n",
              "</table>\n",
              "</div>\n",
              "    <div class=\"colab-df-buttons\">\n",
              "\n",
              "  <div class=\"colab-df-container\">\n",
              "    <button class=\"colab-df-convert\" onclick=\"convertToInteractive('df-adb1cb4c-b51f-43a4-96b5-d46ee87d57e6')\"\n",
              "            title=\"Convert this dataframe to an interactive table.\"\n",
              "            style=\"display:none;\">\n",
              "\n",
              "  <svg xmlns=\"http://www.w3.org/2000/svg\" height=\"24px\" viewBox=\"0 -960 960 960\">\n",
              "    <path d=\"M120-120v-720h720v720H120Zm60-500h600v-160H180v160Zm220 220h160v-160H400v160Zm0 220h160v-160H400v160ZM180-400h160v-160H180v160Zm440 0h160v-160H620v160ZM180-180h160v-160H180v160Zm440 0h160v-160H620v160Z\"/>\n",
              "  </svg>\n",
              "    </button>\n",
              "\n",
              "  <style>\n",
              "    .colab-df-container {\n",
              "      display:flex;\n",
              "      gap: 12px;\n",
              "    }\n",
              "\n",
              "    .colab-df-convert {\n",
              "      background-color: #E8F0FE;\n",
              "      border: none;\n",
              "      border-radius: 50%;\n",
              "      cursor: pointer;\n",
              "      display: none;\n",
              "      fill: #1967D2;\n",
              "      height: 32px;\n",
              "      padding: 0 0 0 0;\n",
              "      width: 32px;\n",
              "    }\n",
              "\n",
              "    .colab-df-convert:hover {\n",
              "      background-color: #E2EBFA;\n",
              "      box-shadow: 0px 1px 2px rgba(60, 64, 67, 0.3), 0px 1px 3px 1px rgba(60, 64, 67, 0.15);\n",
              "      fill: #174EA6;\n",
              "    }\n",
              "\n",
              "    .colab-df-buttons div {\n",
              "      margin-bottom: 4px;\n",
              "    }\n",
              "\n",
              "    [theme=dark] .colab-df-convert {\n",
              "      background-color: #3B4455;\n",
              "      fill: #D2E3FC;\n",
              "    }\n",
              "\n",
              "    [theme=dark] .colab-df-convert:hover {\n",
              "      background-color: #434B5C;\n",
              "      box-shadow: 0px 1px 3px 1px rgba(0, 0, 0, 0.15);\n",
              "      filter: drop-shadow(0px 1px 2px rgba(0, 0, 0, 0.3));\n",
              "      fill: #FFFFFF;\n",
              "    }\n",
              "  </style>\n",
              "\n",
              "    <script>\n",
              "      const buttonEl =\n",
              "        document.querySelector('#df-adb1cb4c-b51f-43a4-96b5-d46ee87d57e6 button.colab-df-convert');\n",
              "      buttonEl.style.display =\n",
              "        google.colab.kernel.accessAllowed ? 'block' : 'none';\n",
              "\n",
              "      async function convertToInteractive(key) {\n",
              "        const element = document.querySelector('#df-adb1cb4c-b51f-43a4-96b5-d46ee87d57e6');\n",
              "        const dataTable =\n",
              "          await google.colab.kernel.invokeFunction('convertToInteractive',\n",
              "                                                    [key], {});\n",
              "        if (!dataTable) return;\n",
              "\n",
              "        const docLinkHtml = 'Like what you see? Visit the ' +\n",
              "          '<a target=\"_blank\" href=https://colab.research.google.com/notebooks/data_table.ipynb>data table notebook</a>'\n",
              "          + ' to learn more about interactive tables.';\n",
              "        element.innerHTML = '';\n",
              "        dataTable['output_type'] = 'display_data';\n",
              "        await google.colab.output.renderOutput(dataTable, element);\n",
              "        const docLink = document.createElement('div');\n",
              "        docLink.innerHTML = docLinkHtml;\n",
              "        element.appendChild(docLink);\n",
              "      }\n",
              "    </script>\n",
              "  </div>\n",
              "\n",
              "\n",
              "<div id=\"df-8c23d3a7-e186-4d94-aaab-f429bcf8cb83\">\n",
              "  <button class=\"colab-df-quickchart\" onclick=\"quickchart('df-8c23d3a7-e186-4d94-aaab-f429bcf8cb83')\"\n",
              "            title=\"Suggest charts\"\n",
              "            style=\"display:none;\">\n",
              "\n",
              "<svg xmlns=\"http://www.w3.org/2000/svg\" height=\"24px\"viewBox=\"0 0 24 24\"\n",
              "     width=\"24px\">\n",
              "    <g>\n",
              "        <path d=\"M19 3H5c-1.1 0-2 .9-2 2v14c0 1.1.9 2 2 2h14c1.1 0 2-.9 2-2V5c0-1.1-.9-2-2-2zM9 17H7v-7h2v7zm4 0h-2V7h2v10zm4 0h-2v-4h2v4z\"/>\n",
              "    </g>\n",
              "</svg>\n",
              "  </button>\n",
              "\n",
              "<style>\n",
              "  .colab-df-quickchart {\n",
              "      --bg-color: #E8F0FE;\n",
              "      --fill-color: #1967D2;\n",
              "      --hover-bg-color: #E2EBFA;\n",
              "      --hover-fill-color: #174EA6;\n",
              "      --disabled-fill-color: #AAA;\n",
              "      --disabled-bg-color: #DDD;\n",
              "  }\n",
              "\n",
              "  [theme=dark] .colab-df-quickchart {\n",
              "      --bg-color: #3B4455;\n",
              "      --fill-color: #D2E3FC;\n",
              "      --hover-bg-color: #434B5C;\n",
              "      --hover-fill-color: #FFFFFF;\n",
              "      --disabled-bg-color: #3B4455;\n",
              "      --disabled-fill-color: #666;\n",
              "  }\n",
              "\n",
              "  .colab-df-quickchart {\n",
              "    background-color: var(--bg-color);\n",
              "    border: none;\n",
              "    border-radius: 50%;\n",
              "    cursor: pointer;\n",
              "    display: none;\n",
              "    fill: var(--fill-color);\n",
              "    height: 32px;\n",
              "    padding: 0;\n",
              "    width: 32px;\n",
              "  }\n",
              "\n",
              "  .colab-df-quickchart:hover {\n",
              "    background-color: var(--hover-bg-color);\n",
              "    box-shadow: 0 1px 2px rgba(60, 64, 67, 0.3), 0 1px 3px 1px rgba(60, 64, 67, 0.15);\n",
              "    fill: var(--button-hover-fill-color);\n",
              "  }\n",
              "\n",
              "  .colab-df-quickchart-complete:disabled,\n",
              "  .colab-df-quickchart-complete:disabled:hover {\n",
              "    background-color: var(--disabled-bg-color);\n",
              "    fill: var(--disabled-fill-color);\n",
              "    box-shadow: none;\n",
              "  }\n",
              "\n",
              "  .colab-df-spinner {\n",
              "    border: 2px solid var(--fill-color);\n",
              "    border-color: transparent;\n",
              "    border-bottom-color: var(--fill-color);\n",
              "    animation:\n",
              "      spin 1s steps(1) infinite;\n",
              "  }\n",
              "\n",
              "  @keyframes spin {\n",
              "    0% {\n",
              "      border-color: transparent;\n",
              "      border-bottom-color: var(--fill-color);\n",
              "      border-left-color: var(--fill-color);\n",
              "    }\n",
              "    20% {\n",
              "      border-color: transparent;\n",
              "      border-left-color: var(--fill-color);\n",
              "      border-top-color: var(--fill-color);\n",
              "    }\n",
              "    30% {\n",
              "      border-color: transparent;\n",
              "      border-left-color: var(--fill-color);\n",
              "      border-top-color: var(--fill-color);\n",
              "      border-right-color: var(--fill-color);\n",
              "    }\n",
              "    40% {\n",
              "      border-color: transparent;\n",
              "      border-right-color: var(--fill-color);\n",
              "      border-top-color: var(--fill-color);\n",
              "    }\n",
              "    60% {\n",
              "      border-color: transparent;\n",
              "      border-right-color: var(--fill-color);\n",
              "    }\n",
              "    80% {\n",
              "      border-color: transparent;\n",
              "      border-right-color: var(--fill-color);\n",
              "      border-bottom-color: var(--fill-color);\n",
              "    }\n",
              "    90% {\n",
              "      border-color: transparent;\n",
              "      border-bottom-color: var(--fill-color);\n",
              "    }\n",
              "  }\n",
              "</style>\n",
              "\n",
              "  <script>\n",
              "    async function quickchart(key) {\n",
              "      const quickchartButtonEl =\n",
              "        document.querySelector('#' + key + ' button');\n",
              "      quickchartButtonEl.disabled = true;  // To prevent multiple clicks.\n",
              "      quickchartButtonEl.classList.add('colab-df-spinner');\n",
              "      try {\n",
              "        const charts = await google.colab.kernel.invokeFunction(\n",
              "            'suggestCharts', [key], {});\n",
              "      } catch (error) {\n",
              "        console.error('Error during call to suggestCharts:', error);\n",
              "      }\n",
              "      quickchartButtonEl.classList.remove('colab-df-spinner');\n",
              "      quickchartButtonEl.classList.add('colab-df-quickchart-complete');\n",
              "    }\n",
              "    (() => {\n",
              "      let quickchartButtonEl =\n",
              "        document.querySelector('#df-8c23d3a7-e186-4d94-aaab-f429bcf8cb83 button');\n",
              "      quickchartButtonEl.style.display =\n",
              "        google.colab.kernel.accessAllowed ? 'block' : 'none';\n",
              "    })();\n",
              "  </script>\n",
              "</div>\n",
              "    </div>\n",
              "  </div>\n"
            ],
            "application/vnd.google.colaboratory.intrinsic+json": {
              "type": "dataframe",
              "summary": "{\n  \"name\": \"test_df\",\n  \"rows\": 10,\n  \"fields\": [\n    {\n      \"column\": \"3364\",\n      \"properties\": {\n        \"dtype\": \"number\",\n        \"std\": 4270,\n        \"min\": 970,\n        \"max\": 12882,\n        \"num_unique_values\": 10,\n        \"samples\": [\n          2847,\n          5987,\n          9864\n        ],\n        \"semantic_type\": \"\",\n        \"description\": \"\"\n      }\n    },\n    {\n      \"column\": \"Facebook\",\n      \"properties\": {\n        \"dtype\": \"string\",\n        \"num_unique_values\": 10,\n        \"samples\": [\n          \"Dota2\",\n          \"HomeDepot\",\n          \"PlayStation5(PS5)\"\n        ],\n        \"semantic_type\": \"\",\n        \"description\": \"\"\n      }\n    },\n    {\n      \"column\": \"Irrelevant\",\n      \"properties\": {\n        \"dtype\": \"category\",\n        \"num_unique_values\": 4,\n        \"samples\": [\n          \"Negative\",\n          \"Irrelevant\",\n          \"Neutral\"\n        ],\n        \"semantic_type\": \"\",\n        \"description\": \"\"\n      }\n    },\n    {\n      \"column\": \"I mentioned on Facebook that I was struggling for motivation to go for a run the other day, which has been translated by Tom\\u2019s great auntie as \\u2018Hayley can\\u2019t get out of bed\\u2019 and told to his grandma, who now thinks I\\u2019m a lazy, terrible person \\ud83e\\udd23\",\n      \"properties\": {\n        \"dtype\": \"string\",\n        \"num_unique_values\": 10,\n        \"samples\": [\n          \"Pre-Covid: Student Game day! Introducing students to Robot Entertainment game as our own form of Leauge of Legends/DOTA2 for our ELL program. They really loved it.  Check it out. Ready Set Heroes.\\nlnkd.in/g-XjTNM\\n#esports  #youth #changeforgood #c\\u2026lnkd.in/gXajeCC\",\n          \"@HomeDepot   Your customer service is atrocious. @RIDGIDPower @RIDGIDtoday impact driver not fixed after 3 weeks. Being given the run around on LSA service agreement. Even w documentation in hand.  #HomeDepot #Ridgidtoday\",\n          \"I don't know what you people have been doing on this app, but I told someone I'd buy my own PS5 and now she's insulting me. :/\"\n        ],\n        \"semantic_type\": \"\",\n        \"description\": \"\"\n      }\n    }\n  ]\n}"
            }
          },
          "metadata": {},
          "execution_count": 15
        }
      ]
    },
    {
      "cell_type": "code",
      "source": [
        "test_df.info()"
      ],
      "metadata": {
        "colab": {
          "base_uri": "https://localhost:8080/"
        },
        "id": "p5BaD1oTWF_d",
        "outputId": "d7dede6a-9dfb-4c9f-a5d3-d4a809c549ec"
      },
      "execution_count": 16,
      "outputs": [
        {
          "output_type": "stream",
          "name": "stdout",
          "text": [
            "<class 'pandas.core.frame.DataFrame'>\n",
            "RangeIndex: 999 entries, 0 to 998\n",
            "Data columns (total 4 columns):\n",
            " #   Column                                                                                                                                                                                                                                              Non-Null Count  Dtype \n",
            "---  ------                                                                                                                                                                                                                                              --------------  ----- \n",
            " 0   3364                                                                                                                                                                                                                                                999 non-null    int64 \n",
            " 1   Facebook                                                                                                                                                                                                                                            999 non-null    object\n",
            " 2   Irrelevant                                                                                                                                                                                                                                          999 non-null    object\n",
            " 3   I mentioned on Facebook that I was struggling for motivation to go for a run the other day, which has been translated by Tom’s great auntie as ‘Hayley can’t get out of bed’ and told to his grandma, who now thinks I’m a lazy, terrible person 🤣  999 non-null    object\n",
            "dtypes: int64(1), object(3)\n",
            "memory usage: 31.3+ KB\n"
          ]
        }
      ]
    },
    {
      "cell_type": "code",
      "source": [
        "test_df.rename(columns={'I mentioned on Facebook that I was struggling for motivation to go for a run the other day, which has been translated by Tom’s great auntie as ‘Hayley can’t get out of bed’ and told to his grandma, who now thinks I’m a lazy, terrible person 🤣':'text'}, inplace=True)"
      ],
      "metadata": {
        "id": "XFfzT2A4V3c9"
      },
      "execution_count": 17,
      "outputs": []
    },
    {
      "cell_type": "code",
      "source": [
        "# Convert text data to sequences\n",
        "X_train_seq = tokenizer.texts_to_sequences(df['text'])\n",
        "X_test_seq = tokenizer.texts_to_sequences(test_df['text'])"
      ],
      "metadata": {
        "id": "lTib4sULVrZ4"
      },
      "execution_count": 19,
      "outputs": []
    },
    {
      "cell_type": "code",
      "source": [
        "# Pad sequences to ensure uniform length\n",
        "X_train_padded = pad_sequences(X_train_seq, maxlen=100)\n",
        "X_test_padded = pad_sequences(X_test_seq, maxlen=100)"
      ],
      "metadata": {
        "id": "7-XP-q4YVucK"
      },
      "execution_count": 20,
      "outputs": []
    },
    {
      "cell_type": "code",
      "source": [
        "# Prepare labels\n",
        "y_train = df['Positive']\n",
        "y_test = test_df['Irrelevant']"
      ],
      "metadata": {
        "id": "X1UHMz79WXfQ"
      },
      "execution_count": 23,
      "outputs": []
    },
    {
      "cell_type": "code",
      "source": [
        "le = LabelEncoder()\n",
        "y_train = le.fit_transform(y_train)\n",
        "y_test = le.fit_transform(y_test)"
      ],
      "metadata": {
        "id": "_3ZHzJDQrTJG"
      },
      "execution_count": 25,
      "outputs": []
    },
    {
      "cell_type": "code",
      "source": [
        "from imblearn.over_sampling import SMOTE\n",
        "smote = SMOTE()\n",
        "X_train_resampled, y_train_resampled = smote.fit_resample(X_train_padded, y_train)"
      ],
      "metadata": {
        "id": "tA7rEy7OzZte"
      },
      "execution_count": 26,
      "outputs": []
    },
    {
      "cell_type": "code",
      "source": [
        "model = Sequential([\n",
        "    Embedding(input_dim=10000, output_dim=128, input_length=100),  # Assuming 100 is the sequence length\n",
        "    Bidirectional(LSTM(128, return_sequences=True)),\n",
        "    Dropout(0.5),\n",
        "    Bidirectional(LSTM(64)),\n",
        "    Dropout(0.5),\n",
        "    Dense(4, activation='softmax')  # Using softmax for multiclass classification\n",
        "])\n"
      ],
      "metadata": {
        "id": "fp8UHcy5Wa17"
      },
      "execution_count": 33,
      "outputs": []
    },
    {
      "cell_type": "code",
      "source": [
        "# Compile the model\n",
        "model.compile(optimizer='adam', loss='sparse_categorical_crossentropy', metrics=['accuracy'])"
      ],
      "metadata": {
        "id": "uxxmdrRDWi66"
      },
      "execution_count": 34,
      "outputs": []
    },
    {
      "cell_type": "code",
      "source": [
        "# Train the model\n",
        "model.fit(X_train_resampled, y_train_resampled, epochs=10, batch_size=32, validation_split=0.1)"
      ],
      "metadata": {
        "id": "LvlgQwATWlZb",
        "colab": {
          "base_uri": "https://localhost:8080/"
        },
        "outputId": "a652b691-9ac0-43fd-e5f6-0beeff896298"
      },
      "execution_count": 35,
      "outputs": [
        {
          "output_type": "stream",
          "name": "stdout",
          "text": [
            "Epoch 1/10\n",
            "2516/2516 [==============================] - 80s 28ms/step - loss: 0.9028 - accuracy: 0.6372 - val_loss: 1.7609 - val_accuracy: 0.3634\n",
            "Epoch 2/10\n",
            "2516/2516 [==============================] - 50s 20ms/step - loss: 0.5300 - accuracy: 0.8066 - val_loss: 2.0798 - val_accuracy: 0.3926\n",
            "Epoch 3/10\n",
            "2516/2516 [==============================] - 49s 20ms/step - loss: 0.3829 - accuracy: 0.8609 - val_loss: 2.0859 - val_accuracy: 0.4125\n",
            "Epoch 4/10\n",
            "2516/2516 [==============================] - 47s 19ms/step - loss: 0.2960 - accuracy: 0.8913 - val_loss: 2.6072 - val_accuracy: 0.4131\n",
            "Epoch 5/10\n",
            "2516/2516 [==============================] - 47s 19ms/step - loss: 0.2404 - accuracy: 0.9105 - val_loss: 2.9166 - val_accuracy: 0.4109\n",
            "Epoch 6/10\n",
            "2516/2516 [==============================] - 47s 19ms/step - loss: 0.2010 - accuracy: 0.9238 - val_loss: 3.3034 - val_accuracy: 0.4239\n",
            "Epoch 7/10\n",
            "2516/2516 [==============================] - 47s 19ms/step - loss: 0.1758 - accuracy: 0.9324 - val_loss: 3.5422 - val_accuracy: 0.4176\n",
            "Epoch 8/10\n",
            "2516/2516 [==============================] - 49s 19ms/step - loss: 0.1561 - accuracy: 0.9385 - val_loss: 3.7873 - val_accuracy: 0.4151\n",
            "Epoch 9/10\n",
            "2516/2516 [==============================] - 48s 19ms/step - loss: 0.1402 - accuracy: 0.9442 - val_loss: 3.8052 - val_accuracy: 0.4107\n",
            "Epoch 10/10\n",
            "2516/2516 [==============================] - 48s 19ms/step - loss: 0.1292 - accuracy: 0.9486 - val_loss: 4.0794 - val_accuracy: 0.4177\n"
          ]
        },
        {
          "output_type": "execute_result",
          "data": {
            "text/plain": [
              "<keras.src.callbacks.History at 0x7849a827a680>"
            ]
          },
          "metadata": {},
          "execution_count": 35
        }
      ]
    },
    {
      "cell_type": "code",
      "source": [
        "# Evaluate the model on test data\n",
        "loss, accuracy = model.evaluate(X_test_padded, y_test)\n",
        "print(\"Test Accuracy:\", accuracy)"
      ],
      "metadata": {
        "id": "ZCL6UUSpWnYf",
        "colab": {
          "base_uri": "https://localhost:8080/"
        },
        "outputId": "13129f12-a1ae-4833-c440-1df6014bca93"
      },
      "execution_count": 36,
      "outputs": [
        {
          "output_type": "stream",
          "name": "stdout",
          "text": [
            "32/32 [==============================] - 0s 12ms/step - loss: 0.4088 - accuracy: 0.9279\n",
            "Test Accuracy: 0.9279279112815857\n"
          ]
        }
      ]
    }
  ]
}