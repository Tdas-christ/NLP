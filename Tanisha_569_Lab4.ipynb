{
 "cells": [
  {
   "cell_type": "code",
   "execution_count": 5,
   "id": "2a3914bb-65f8-49d4-bf42-de122a9fcd9b",
   "metadata": {},
   "outputs": [],
   "source": [
    "from nltk.corpus import wordnet"
   ]
  },
  {
   "cell_type": "code",
   "execution_count": 6,
   "id": "56363215-3eb3-4d9a-9031-8bca9019e143",
   "metadata": {},
   "outputs": [],
   "source": [
    "def get_synonyms(word):\n",
    "    synsets = wordnet.synsets(word)\n",
    "    if not synsets:\n",
    "        return None\n",
    "    return synsets"
   ]
  },
  {
   "cell_type": "code",
   "execution_count": 7,
   "id": "e61e6d4e-0728-4b17-9570-251f564623c5",
   "metadata": {},
   "outputs": [],
   "source": [
    "def get_meaning(synsets, index):\n",
    "    if index < len(synsets):\n",
    "        return synsets[index].definition()\n",
    "    return None"
   ]
  },
  {
   "cell_type": "code",
   "execution_count": 8,
   "id": "ca50f81e-03d5-43c3-bee2-eceb65ff7f32",
   "metadata": {},
   "outputs": [],
   "source": [
    "def extract_pos_synonyms(synsets, pos):\n",
    "    pos_synonyms = []\n",
    "    for synset in synsets:\n",
    "        if synset.pos() == pos:\n",
    "            pos_synonyms.extend(synset.lemmas())\n",
    "    return pos_synonyms"
   ]
  },
  {
   "cell_type": "code",
   "execution_count": 9,
   "id": "3fb5ebaf-e158-43a8-8eb1-c1d532309ad8",
   "metadata": {},
   "outputs": [],
   "source": [
    "def get_hypernyms(synset):\n",
    "    return synset.hypernyms()"
   ]
  },
  {
   "cell_type": "code",
   "execution_count": 10,
   "id": "5296d6de-3b25-4a70-b8ae-60e55c94ea59",
   "metadata": {},
   "outputs": [],
   "source": [
    "def get_hyponyms(synset):\n",
    "    return synset.hyponyms()"
   ]
  },
  {
   "cell_type": "code",
   "execution_count": 11,
   "id": "8ea25aaf-972b-48d3-8bd7-acb0dd450be5",
   "metadata": {},
   "outputs": [],
   "source": [
    "def get_similarities(synset1, synset2):\n",
    "    return synset1.path_similarity(synset2)"
   ]
  },
  {
   "cell_type": "code",
   "execution_count": 15,
   "id": "2b798775-df22-4be9-8cf9-1e83449362c1",
   "metadata": {},
   "outputs": [],
   "source": [
    "word = \"follow\"\n",
    "synsets = get_synonyms(word)"
   ]
  },
  {
   "cell_type": "code",
   "execution_count": 16,
   "id": "a748c267-fa2c-4357-b70a-e6ee846c098b",
   "metadata": {},
   "outputs": [
    {
     "name": "stdout",
     "output_type": "stream",
     "text": [
      "Third meaning of 'follow': come as a logical consequence; follow logically\n",
      "\n",
      "\n",
      "Nouns: []\n",
      "\n",
      "Verbs: ['follow', 'postdate', 'follow', 'follow', 'fall_out', 'follow', 'travel_along', 'comply', 'follow', 'abide_by', 'follow', 'come_after', 'follow', 'conform_to', 'follow', 'adopt', 'follow', 'espouse', 'follow', 'take_after', 'follow', 'trace', 'follow', 'watch', 'observe', 'follow', 'watch_over', 'keep_an_eye_on', 'succeed', 'come_after', 'follow', 'play_along', 'accompany', 'follow', 'keep_up', 'keep_abreast', 'follow', 'come', 'follow', 'follow', 'follow', 'be', 'follow', 'surveil', 'follow', 'survey', 'pursue', 'follow', 'follow', 'stick_to', 'stick_with', 'follow']\n",
      "\n",
      "Adjectives: []\n",
      "\n",
      "Adverbs: []\n",
      "\n",
      "Definition: to travel behind, go after, come after\n",
      "\n",
      "Hypernyms: ['travel.v.01', None, 'result.v.01', 'travel.v.01', 'obey.v.01', 'result.v.01', 'imitate.v.01', 'be.v.03', 'choose.v.01', None, 'imitate.v.01', 'analyze.v.01', 'check.v.01', None, 'play.v.03', None, 'originate.v.01', 'act.v.02', 'practice.v.04', None, None, 'travel.v.01', 'understand.v.01', 'persevere.v.01']\n",
      "\n",
      "Hyponyms: [['carry.v.30', 'lag.v.01', 'shadow.v.01', 'tailgate.v.01'], None, None, ['ascend.v.05', 'heel.v.02'], ['conform_to.v.02', 'oblige.v.03', 'toe_the_line.v.01'], None, ['go_by.v.04'], None, ['adhere.v.04'], None, None, None, ['guard.v.01', 'invigilate.v.01', 'keep_tabs_on.v.01'], ['accede.v.02', 'supplant.v.01'], None, None, None, None, None, ['cox.v.01', 'vet.v.01'], None, ['chase.v.01', 'haunt.v.01', 'stalk.v.03'], None, None]\n",
      "\n",
      "There are not enough hyponyms to compute similarity.\n"
     ]
    }
   ],
   "source": [
    "if synsets:\n",
    "    # a) Find the 3rd meaning of the word in the list.\n",
    "    third_meaning = get_meaning(synsets, 2)\n",
    "    print(\"Third meaning of '{}': {}\\n\".format(word, third_meaning))\n",
    "\n",
    "    # b) Extract the nouns of the word from the synonyms list.\n",
    "    nouns = extract_pos_synonyms(synsets, \"n\")\n",
    "    print(\"\\nNouns:\", [noun.name() for noun in nouns])\n",
    "\n",
    "    # c) Extract the verbs of the word from the synonyms list.\n",
    "    verbs = extract_pos_synonyms(synsets, \"v\")\n",
    "    print(\"\\nVerbs:\", [verb.name() for verb in verbs])\n",
    "\n",
    "    # d) Extract the adjectives of the word from the synonyms list.\n",
    "    adjectives = extract_pos_synonyms(synsets, \"a\")\n",
    "    print(\"\\nAdjectives:\", [adj.name() for adj in adjectives])\n",
    "\n",
    "    # e) Extract the adverbs of the word from the synonyms list.\n",
    "    adverbs = extract_pos_synonyms(synsets, \"r\")\n",
    "    print(\"\\nAdverbs:\", [adv.name() for adv in adverbs])\n",
    "\n",
    "    # f) Extract the definition of the word.\n",
    "    print(\"\\nDefinition:\", synsets[0].definition())\n",
    "\n",
    "    # g) Find the hypernyms of each word.\n",
    "    hypernyms = [get_hypernyms(synset) for synset in synsets]\n",
    "    print(\"\\nHypernyms:\", [hypernym[0].name() if hypernym else None for hypernym in hypernyms])\n",
    "\n",
    "    # h) Find the hyponyms of each word.\n",
    "    hyponyms = [get_hyponyms(synset) for synset in synsets]\n",
    "    print(\"\\nHyponyms:\", [[hyponym.name() for hyponym in hyponym_set] if hyponym_set else None for hyponym_set in hyponyms])\n",
    "\n",
    "    # i) Find the similarities of any two hyponyms of a word.\n",
    "    if len(hyponyms) >= 2 and len(hyponyms[0]) >= 1 and len(hyponyms[1]) >= 1:\n",
    "        similarity = get_similarities(hyponyms[0][0], hyponyms[1][0])\n",
    "        print(\"\\nSimilarity between first hyponym of '{}' and first hyponym of '{}' is: {}\".format(word, word, similarity))\n",
    "    else:\n",
    "        print(\"\\nThere are not enough hyponyms to compute similarity.\")"
   ]
  },
  {
   "cell_type": "code",
   "execution_count": null,
   "id": "462179ca-73b5-4819-9144-760b823a4905",
   "metadata": {},
   "outputs": [],
   "source": []
  }
 ],
 "metadata": {
  "kernelspec": {
   "display_name": "Python 3 (ipykernel)",
   "language": "python",
   "name": "python3"
  },
  "language_info": {
   "codemirror_mode": {
    "name": "ipython",
    "version": 3
   },
   "file_extension": ".py",
   "mimetype": "text/x-python",
   "name": "python",
   "nbconvert_exporter": "python",
   "pygments_lexer": "ipython3",
   "version": "3.11.5"
  }
 },
 "nbformat": 4,
 "nbformat_minor": 5
}
