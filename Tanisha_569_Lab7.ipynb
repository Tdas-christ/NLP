{
  "nbformat": 4,
  "nbformat_minor": 0,
  "metadata": {
    "colab": {
      "provenance": [],
      "gpuType": "T4"
    },
    "kernelspec": {
      "name": "python3",
      "display_name": "Python 3"
    },
    "language_info": {
      "name": "python"
    },
    "accelerator": "GPU"
  },
  "cells": [
    {
      "cell_type": "markdown",
      "source": [
        "# **Question 1- Find the similarity between two documents (2 corpus or two paragraphs) using any of the two similarity measures.**"
      ],
      "metadata": {
        "id": "F8hEDyvBIA3f"
      }
    },
    {
      "cell_type": "code",
      "execution_count": 40,
      "metadata": {
        "id": "xfIpvO8Y-3eZ"
      },
      "outputs": [],
      "source": [
        "import nltk\n",
        "from nltk.corpus import gutenberg\n",
        "from nltk.tokenize import word_tokenize\n",
        "from nltk.corpus import stopwords\n",
        "from nltk.stem import PorterStemmer\n",
        "from sklearn.feature_extraction.text import TfidfVectorizer\n",
        "from sklearn.metrics.pairwise import cosine_similarity\n",
        "from sklearn.metrics.pairwise import pairwise_distances"
      ]
    },
    {
      "cell_type": "code",
      "source": [
        "# Download the Gutenberg Corpus if not already downloaded\n",
        "nltk.download('gutenberg')\n",
        "nltk.download('punkt')\n",
        "nltk.download('stopwords')"
      ],
      "metadata": {
        "colab": {
          "base_uri": "https://localhost:8080/"
        },
        "id": "Ewlnql82_5Pr",
        "outputId": "3e1e2b00-5506-4590-be12-6adfb6eea1e1"
      },
      "execution_count": 41,
      "outputs": [
        {
          "output_type": "stream",
          "name": "stderr",
          "text": [
            "[nltk_data] Downloading package gutenberg to /root/nltk_data...\n",
            "[nltk_data]   Package gutenberg is already up-to-date!\n",
            "[nltk_data] Downloading package punkt to /root/nltk_data...\n",
            "[nltk_data]   Package punkt is already up-to-date!\n",
            "[nltk_data] Downloading package stopwords to /root/nltk_data...\n",
            "[nltk_data]   Package stopwords is already up-to-date!\n"
          ]
        },
        {
          "output_type": "execute_result",
          "data": {
            "text/plain": [
              "True"
            ]
          },
          "metadata": {},
          "execution_count": 41
        }
      ]
    },
    {
      "cell_type": "code",
      "source": [
        "# Select two books from the Gutenberg Corpus\n",
        "book1 = gutenberg.raw('austen-emma.txt')\n",
        "book2 = gutenberg.raw('austen-persuasion.txt')"
      ],
      "metadata": {
        "id": "r4QHA4ZhDxjg"
      },
      "execution_count": 42,
      "outputs": []
    },
    {
      "cell_type": "code",
      "source": [
        "# Toeknize the text\n",
        "book1_tokens = word_tokenize(book1.lower())\n",
        "book2_tokens = word_tokenize(book2.lower())"
      ],
      "metadata": {
        "id": "2aupDC-pGuPM"
      },
      "execution_count": 43,
      "outputs": []
    },
    {
      "cell_type": "code",
      "source": [
        "# Tokenize the text (convert it to set for Jaccard similarity)\n",
        "book1_tokens_set = set(word_tokenize(book1.lower()))\n",
        "book2_tokens_set = set(word_tokenize(book2.lower()))"
      ],
      "metadata": {
        "id": "TyCSbrIiD1KJ"
      },
      "execution_count": 44,
      "outputs": []
    },
    {
      "cell_type": "code",
      "source": [
        "# Remove stop words\n",
        "stop_words = set(stopwords.words(\"english\"))\n",
        "book1_filtered_tokens = [word.lower() for word in book1_tokens if word.lower() not in stop_words]\n",
        "book2_filtered_tokens = [word.lower() for word in book2_tokens if word.lower() not in stop_words]"
      ],
      "metadata": {
        "id": "qt5zNEbVD3gv"
      },
      "execution_count": 45,
      "outputs": []
    },
    {
      "cell_type": "code",
      "source": [
        "# Stemming\n",
        "stemmer = PorterStemmer()\n",
        "book1_stemmed_tokens = [stemmer.stem(word) for word in book1_filtered_tokens]\n",
        "book2_stemmed_tokens = [stemmer.stem(word) for word in book2_filtered_tokens]"
      ],
      "metadata": {
        "id": "niA0_R1yEFkZ"
      },
      "execution_count": 46,
      "outputs": []
    },
    {
      "cell_type": "code",
      "source": [
        "# Convert to strings\n",
        "book1_processed_text = \" \".join(book1_stemmed_tokens)\n",
        "book2_processed_text = \" \".join(book2_stemmed_tokens)"
      ],
      "metadata": {
        "id": "oaFAyh36FGBW"
      },
      "execution_count": 47,
      "outputs": []
    },
    {
      "cell_type": "code",
      "source": [
        "# Vectorize the text\n",
        "vectorizer = TfidfVectorizer()\n",
        "tfidf_matrix = vectorizer.fit_transform([book1_processed_text, book2_processed_text])"
      ],
      "metadata": {
        "id": "YMbDDcdGFL6u"
      },
      "execution_count": 48,
      "outputs": []
    },
    {
      "cell_type": "code",
      "source": [
        "dense_tfidf_matrix = tfidf_matrix.toarray()"
      ],
      "metadata": {
        "id": "-8iNANjyHqae"
      },
      "execution_count": 49,
      "outputs": []
    },
    {
      "cell_type": "code",
      "source": [
        "# Calculate Cosine Similarity\n",
        "cosine_sim = cosine_similarity(tfidf_matrix[0:1], tfidf_matrix[1:2])\n",
        "\n",
        "print(\"Cosine Similarity:\", cosine_sim)"
      ],
      "metadata": {
        "colab": {
          "base_uri": "https://localhost:8080/"
        },
        "id": "gv0yyi6DFOM4",
        "outputId": "be155785-1821-480a-9f11-78fb99f633e7"
      },
      "execution_count": 50,
      "outputs": [
        {
          "output_type": "stream",
          "name": "stdout",
          "text": [
            "Cosine Similarity: [[0.67869199]]\n"
          ]
        }
      ]
    },
    {
      "cell_type": "code",
      "source": [
        "# Calculate Jaccard Similarity\n",
        "intersection = len(book1_tokens_set.intersection(book2_tokens_set))\n",
        "union = len(book1_tokens_set.union(book2_tokens_set))\n",
        "jaccard_sim = intersection / union\n",
        "\n",
        "print(\"Jaccard Similarity:\", jaccard_sim)"
      ],
      "metadata": {
        "colab": {
          "base_uri": "https://localhost:8080/"
        },
        "id": "nBR0s4d-GNF-",
        "outputId": "3035d74a-ae17-4fa7-8479-6e8267993b63"
      },
      "execution_count": 51,
      "outputs": [
        {
          "output_type": "stream",
          "name": "stdout",
          "text": [
            "Jaccard Similarity: 0.40471373659720816\n"
          ]
        }
      ]
    },
    {
      "cell_type": "code",
      "source": [
        "# Calculate Jaccard Similarity\n",
        "jaccard_sim = 1 - pairwise_distances(dense_tfidf_matrix[0:1], dense_tfidf_matrix[1:2], metric=\"jaccard\")\n",
        "print(\"Jaccard Similarity:\", jaccard_sim)"
      ],
      "metadata": {
        "colab": {
          "base_uri": "https://localhost:8080/"
        },
        "id": "PG5rbey-HE94",
        "outputId": "fe18a927-99b6-466d-8b62-1f26ed09b561"
      },
      "execution_count": 52,
      "outputs": [
        {
          "output_type": "stream",
          "name": "stdout",
          "text": [
            "Jaccard Similarity: [[0.45798035]]\n"
          ]
        },
        {
          "output_type": "stream",
          "name": "stderr",
          "text": [
            "/usr/local/lib/python3.10/dist-packages/sklearn/metrics/pairwise.py:2025: DataConversionWarning: Data was converted to boolean for metric jaccard\n",
            "  warnings.warn(msg, DataConversionWarning)\n"
          ]
        }
      ]
    },
    {
      "cell_type": "markdown",
      "source": [
        "# **Question 2- Implement the Sentiment Analysis using Bayesian Classification.**"
      ],
      "metadata": {
        "id": "9BWy3ACqIPi2"
      }
    },
    {
      "cell_type": "code",
      "source": [
        "from sklearn.feature_extraction.text import CountVectorizer\n",
        "from sklearn.naive_bayes import MultinomialNB\n",
        "from sklearn.model_selection import train_test_split\n",
        "from sklearn.metrics import accuracy_score\n",
        "import pandas as pd\n",
        "from sklearn.metrics import confusion_matrix\n",
        "import seaborn as sns\n",
        "import matplotlib.pyplot as plt"
      ],
      "metadata": {
        "id": "NDKsk4HKIPRQ"
      },
      "execution_count": 53,
      "outputs": []
    },
    {
      "cell_type": "code",
      "source": [
        "from google.colab import drive\n",
        "drive.mount('/content/drive')"
      ],
      "metadata": {
        "id": "bWhrL5vnJTgE",
        "colab": {
          "base_uri": "https://localhost:8080/"
        },
        "outputId": "e2b645bd-f89f-40de-9531-b455d71f936f"
      },
      "execution_count": 54,
      "outputs": [
        {
          "output_type": "stream",
          "name": "stdout",
          "text": [
            "Drive already mounted at /content/drive; to attempt to forcibly remount, call drive.mount(\"/content/drive\", force_remount=True).\n"
          ]
        }
      ]
    },
    {
      "cell_type": "code",
      "source": [
        "# Loading the dataset\n",
        "df = pd.read_csv('/content/drive/MyDrive/DATASETS/Datafiniti_Hotel_Reviews.csv')"
      ],
      "metadata": {
        "id": "qA3SbTyUIcSb"
      },
      "execution_count": 55,
      "outputs": []
    },
    {
      "cell_type": "code",
      "source": [
        "df.head()"
      ],
      "metadata": {
        "colab": {
          "base_uri": "https://localhost:8080/",
          "height": 603
        },
        "id": "GchwMxmhL1Vl",
        "outputId": "f77839a5-ee58-4a4b-d410-78222ca7e50c"
      },
      "execution_count": 56,
      "outputs": [
        {
          "output_type": "execute_result",
          "data": {
            "text/plain": [
              "                     id             dateAdded           dateUpdated  \\\n",
              "0  AVwc252WIN2L1WUfpqLP  2016-10-30T21:42:42Z  2018-09-10T21:06:27Z   \n",
              "1  AVwc252WIN2L1WUfpqLP  2016-10-30T21:42:42Z  2018-09-10T21:06:27Z   \n",
              "2  AVwc252WIN2L1WUfpqLP  2016-10-30T21:42:42Z  2018-09-10T21:06:27Z   \n",
              "3  AVwdOclqIN2L1WUfti38  2015-11-28T19:19:35Z  2018-09-10T21:06:16Z   \n",
              "4  AVwdOclqIN2L1WUfti38  2015-11-28T19:19:35Z  2018-09-10T21:06:16Z   \n",
              "\n",
              "             address                                         categories  \\\n",
              "0  5921 Valencia Cir  Hotels,Hotels and motels,Hotel and motel reser...   \n",
              "1  5921 Valencia Cir  Hotels,Hotels and motels,Hotel and motel reser...   \n",
              "2  5921 Valencia Cir  Hotels,Hotels and motels,Hotel and motel reser...   \n",
              "3     7520 Teague Rd  Hotels,Hotels and motels,Travel agencies and b...   \n",
              "4     7520 Teague Rd  Hotels,Hotels and motels,Travel agencies and b...   \n",
              "\n",
              "               primaryCategories             city country  \\\n",
              "0  Accommodation & Food Services  Rancho Santa Fe      US   \n",
              "1  Accommodation & Food Services  Rancho Santa Fe      US   \n",
              "2  Accommodation & Food Services  Rancho Santa Fe      US   \n",
              "3  Accommodation & Food Services          Hanover      US   \n",
              "4  Accommodation & Food Services          Hanover      US   \n",
              "\n",
              "                                            keys   latitude  ...  \\\n",
              "0  us/ca/ranchosantafe/5921valenciacir/359754519  32.990959  ...   \n",
              "1  us/ca/ranchosantafe/5921valenciacir/359754519  32.990959  ...   \n",
              "2  us/ca/ranchosantafe/5921valenciacir/359754519  32.990959  ...   \n",
              "3         us/md/hanover/7520teaguerd/-2043779672  39.155929  ...   \n",
              "4         us/md/hanover/7520teaguerd/-2043779672  39.155929  ...   \n",
              "\n",
              "                                    reviews.dateSeen reviews.rating  \\\n",
              "0  2016-08-03T00:00:00Z,2016-07-26T00:00:00Z,2016...            5.0   \n",
              "1  2016-08-02T00:00:00Z,2016-08-26T00:00:00Z,2016...            5.0   \n",
              "2  2016-11-15T00:00:00Z,2016-08-23T00:00:00Z,2016...            5.0   \n",
              "3          2016-05-21T00:00:00Z,2016-07-31T00:00:00Z            2.0   \n",
              "4                               2016-07-31T00:00:00Z            5.0   \n",
              "\n",
              "                                  reviews.sourceURLs  \\\n",
              "0    https://www.hotels.com/hotel/125419/reviews%20/   \n",
              "1    https://www.hotels.com/hotel/125419/reviews%20/   \n",
              "2    https://www.hotels.com/hotel/125419/reviews%20/   \n",
              "3  https://www.tripadvisor.com/Hotel_Review-g4118...   \n",
              "4  https://www.tripadvisor.com/Hotel_Review-g4118...   \n",
              "\n",
              "                                        reviews.text  \\\n",
              "0  Our experience at Rancho Valencia was absolute...   \n",
              "1  Amazing place. Everyone was extremely warm and...   \n",
              "2  We booked a 3 night stay at Rancho Valencia to...   \n",
              "3  Currently in bed writing this for the past hr ...   \n",
              "4  I live in Md and the Aloft is my Home away fro...   \n",
              "\n",
              "                              reviews.title reviews.userCity  \\\n",
              "0           Best romantic vacation ever!!!!              NaN   \n",
              "1                      Sweet sweet serenity              NaN   \n",
              "2           Amazing Property and Experience              NaN   \n",
              "3  Never again...beware, if you want sleep.         Richmond   \n",
              "4                      ALWAYS GREAT STAY...           Laurel   \n",
              "\n",
              "   reviews.userProvince reviews.username  \\\n",
              "0                   NaN            Paula   \n",
              "1                   NaN                D   \n",
              "2                   NaN              Ron   \n",
              "3                    VA        jaeem2016   \n",
              "4                    MD       MamaNiaOne   \n",
              "\n",
              "                                          sourceURLs  \\\n",
              "0  http://www.hotels.com/ho125419/%25252525253Flo...   \n",
              "1  http://www.hotels.com/ho125419/%25252525253Flo...   \n",
              "2  http://www.hotels.com/ho125419/%25252525253Flo...   \n",
              "3  http://www.yellowbook.com/profile/aloft-arunde...   \n",
              "4  http://www.yellowbook.com/profile/aloft-arunde...   \n",
              "\n",
              "                                            websites  \n",
              "0                      http://www.ranchovalencia.com  \n",
              "1                      http://www.ranchovalencia.com  \n",
              "2                      http://www.ranchovalencia.com  \n",
              "3  http://www.starwoodhotels.com/alofthotels/prop...  \n",
              "4  http://www.starwoodhotels.com/alofthotels/prop...  \n",
              "\n",
              "[5 rows x 25 columns]"
            ],
            "text/html": [
              "\n",
              "  <div id=\"df-557b73c0-6d0d-441b-99c8-751ec03b0234\" class=\"colab-df-container\">\n",
              "    <div>\n",
              "<style scoped>\n",
              "    .dataframe tbody tr th:only-of-type {\n",
              "        vertical-align: middle;\n",
              "    }\n",
              "\n",
              "    .dataframe tbody tr th {\n",
              "        vertical-align: top;\n",
              "    }\n",
              "\n",
              "    .dataframe thead th {\n",
              "        text-align: right;\n",
              "    }\n",
              "</style>\n",
              "<table border=\"1\" class=\"dataframe\">\n",
              "  <thead>\n",
              "    <tr style=\"text-align: right;\">\n",
              "      <th></th>\n",
              "      <th>id</th>\n",
              "      <th>dateAdded</th>\n",
              "      <th>dateUpdated</th>\n",
              "      <th>address</th>\n",
              "      <th>categories</th>\n",
              "      <th>primaryCategories</th>\n",
              "      <th>city</th>\n",
              "      <th>country</th>\n",
              "      <th>keys</th>\n",
              "      <th>latitude</th>\n",
              "      <th>...</th>\n",
              "      <th>reviews.dateSeen</th>\n",
              "      <th>reviews.rating</th>\n",
              "      <th>reviews.sourceURLs</th>\n",
              "      <th>reviews.text</th>\n",
              "      <th>reviews.title</th>\n",
              "      <th>reviews.userCity</th>\n",
              "      <th>reviews.userProvince</th>\n",
              "      <th>reviews.username</th>\n",
              "      <th>sourceURLs</th>\n",
              "      <th>websites</th>\n",
              "    </tr>\n",
              "  </thead>\n",
              "  <tbody>\n",
              "    <tr>\n",
              "      <th>0</th>\n",
              "      <td>AVwc252WIN2L1WUfpqLP</td>\n",
              "      <td>2016-10-30T21:42:42Z</td>\n",
              "      <td>2018-09-10T21:06:27Z</td>\n",
              "      <td>5921 Valencia Cir</td>\n",
              "      <td>Hotels,Hotels and motels,Hotel and motel reser...</td>\n",
              "      <td>Accommodation &amp; Food Services</td>\n",
              "      <td>Rancho Santa Fe</td>\n",
              "      <td>US</td>\n",
              "      <td>us/ca/ranchosantafe/5921valenciacir/359754519</td>\n",
              "      <td>32.990959</td>\n",
              "      <td>...</td>\n",
              "      <td>2016-08-03T00:00:00Z,2016-07-26T00:00:00Z,2016...</td>\n",
              "      <td>5.0</td>\n",
              "      <td>https://www.hotels.com/hotel/125419/reviews%20/</td>\n",
              "      <td>Our experience at Rancho Valencia was absolute...</td>\n",
              "      <td>Best romantic vacation ever!!!!</td>\n",
              "      <td>NaN</td>\n",
              "      <td>NaN</td>\n",
              "      <td>Paula</td>\n",
              "      <td>http://www.hotels.com/ho125419/%25252525253Flo...</td>\n",
              "      <td>http://www.ranchovalencia.com</td>\n",
              "    </tr>\n",
              "    <tr>\n",
              "      <th>1</th>\n",
              "      <td>AVwc252WIN2L1WUfpqLP</td>\n",
              "      <td>2016-10-30T21:42:42Z</td>\n",
              "      <td>2018-09-10T21:06:27Z</td>\n",
              "      <td>5921 Valencia Cir</td>\n",
              "      <td>Hotels,Hotels and motels,Hotel and motel reser...</td>\n",
              "      <td>Accommodation &amp; Food Services</td>\n",
              "      <td>Rancho Santa Fe</td>\n",
              "      <td>US</td>\n",
              "      <td>us/ca/ranchosantafe/5921valenciacir/359754519</td>\n",
              "      <td>32.990959</td>\n",
              "      <td>...</td>\n",
              "      <td>2016-08-02T00:00:00Z,2016-08-26T00:00:00Z,2016...</td>\n",
              "      <td>5.0</td>\n",
              "      <td>https://www.hotels.com/hotel/125419/reviews%20/</td>\n",
              "      <td>Amazing place. Everyone was extremely warm and...</td>\n",
              "      <td>Sweet sweet serenity</td>\n",
              "      <td>NaN</td>\n",
              "      <td>NaN</td>\n",
              "      <td>D</td>\n",
              "      <td>http://www.hotels.com/ho125419/%25252525253Flo...</td>\n",
              "      <td>http://www.ranchovalencia.com</td>\n",
              "    </tr>\n",
              "    <tr>\n",
              "      <th>2</th>\n",
              "      <td>AVwc252WIN2L1WUfpqLP</td>\n",
              "      <td>2016-10-30T21:42:42Z</td>\n",
              "      <td>2018-09-10T21:06:27Z</td>\n",
              "      <td>5921 Valencia Cir</td>\n",
              "      <td>Hotels,Hotels and motels,Hotel and motel reser...</td>\n",
              "      <td>Accommodation &amp; Food Services</td>\n",
              "      <td>Rancho Santa Fe</td>\n",
              "      <td>US</td>\n",
              "      <td>us/ca/ranchosantafe/5921valenciacir/359754519</td>\n",
              "      <td>32.990959</td>\n",
              "      <td>...</td>\n",
              "      <td>2016-11-15T00:00:00Z,2016-08-23T00:00:00Z,2016...</td>\n",
              "      <td>5.0</td>\n",
              "      <td>https://www.hotels.com/hotel/125419/reviews%20/</td>\n",
              "      <td>We booked a 3 night stay at Rancho Valencia to...</td>\n",
              "      <td>Amazing Property and Experience</td>\n",
              "      <td>NaN</td>\n",
              "      <td>NaN</td>\n",
              "      <td>Ron</td>\n",
              "      <td>http://www.hotels.com/ho125419/%25252525253Flo...</td>\n",
              "      <td>http://www.ranchovalencia.com</td>\n",
              "    </tr>\n",
              "    <tr>\n",
              "      <th>3</th>\n",
              "      <td>AVwdOclqIN2L1WUfti38</td>\n",
              "      <td>2015-11-28T19:19:35Z</td>\n",
              "      <td>2018-09-10T21:06:16Z</td>\n",
              "      <td>7520 Teague Rd</td>\n",
              "      <td>Hotels,Hotels and motels,Travel agencies and b...</td>\n",
              "      <td>Accommodation &amp; Food Services</td>\n",
              "      <td>Hanover</td>\n",
              "      <td>US</td>\n",
              "      <td>us/md/hanover/7520teaguerd/-2043779672</td>\n",
              "      <td>39.155929</td>\n",
              "      <td>...</td>\n",
              "      <td>2016-05-21T00:00:00Z,2016-07-31T00:00:00Z</td>\n",
              "      <td>2.0</td>\n",
              "      <td>https://www.tripadvisor.com/Hotel_Review-g4118...</td>\n",
              "      <td>Currently in bed writing this for the past hr ...</td>\n",
              "      <td>Never again...beware, if you want sleep.</td>\n",
              "      <td>Richmond</td>\n",
              "      <td>VA</td>\n",
              "      <td>jaeem2016</td>\n",
              "      <td>http://www.yellowbook.com/profile/aloft-arunde...</td>\n",
              "      <td>http://www.starwoodhotels.com/alofthotels/prop...</td>\n",
              "    </tr>\n",
              "    <tr>\n",
              "      <th>4</th>\n",
              "      <td>AVwdOclqIN2L1WUfti38</td>\n",
              "      <td>2015-11-28T19:19:35Z</td>\n",
              "      <td>2018-09-10T21:06:16Z</td>\n",
              "      <td>7520 Teague Rd</td>\n",
              "      <td>Hotels,Hotels and motels,Travel agencies and b...</td>\n",
              "      <td>Accommodation &amp; Food Services</td>\n",
              "      <td>Hanover</td>\n",
              "      <td>US</td>\n",
              "      <td>us/md/hanover/7520teaguerd/-2043779672</td>\n",
              "      <td>39.155929</td>\n",
              "      <td>...</td>\n",
              "      <td>2016-07-31T00:00:00Z</td>\n",
              "      <td>5.0</td>\n",
              "      <td>https://www.tripadvisor.com/Hotel_Review-g4118...</td>\n",
              "      <td>I live in Md and the Aloft is my Home away fro...</td>\n",
              "      <td>ALWAYS GREAT STAY...</td>\n",
              "      <td>Laurel</td>\n",
              "      <td>MD</td>\n",
              "      <td>MamaNiaOne</td>\n",
              "      <td>http://www.yellowbook.com/profile/aloft-arunde...</td>\n",
              "      <td>http://www.starwoodhotels.com/alofthotels/prop...</td>\n",
              "    </tr>\n",
              "  </tbody>\n",
              "</table>\n",
              "<p>5 rows × 25 columns</p>\n",
              "</div>\n",
              "    <div class=\"colab-df-buttons\">\n",
              "\n",
              "  <div class=\"colab-df-container\">\n",
              "    <button class=\"colab-df-convert\" onclick=\"convertToInteractive('df-557b73c0-6d0d-441b-99c8-751ec03b0234')\"\n",
              "            title=\"Convert this dataframe to an interactive table.\"\n",
              "            style=\"display:none;\">\n",
              "\n",
              "  <svg xmlns=\"http://www.w3.org/2000/svg\" height=\"24px\" viewBox=\"0 -960 960 960\">\n",
              "    <path d=\"M120-120v-720h720v720H120Zm60-500h600v-160H180v160Zm220 220h160v-160H400v160Zm0 220h160v-160H400v160ZM180-400h160v-160H180v160Zm440 0h160v-160H620v160ZM180-180h160v-160H180v160Zm440 0h160v-160H620v160Z\"/>\n",
              "  </svg>\n",
              "    </button>\n",
              "\n",
              "  <style>\n",
              "    .colab-df-container {\n",
              "      display:flex;\n",
              "      gap: 12px;\n",
              "    }\n",
              "\n",
              "    .colab-df-convert {\n",
              "      background-color: #E8F0FE;\n",
              "      border: none;\n",
              "      border-radius: 50%;\n",
              "      cursor: pointer;\n",
              "      display: none;\n",
              "      fill: #1967D2;\n",
              "      height: 32px;\n",
              "      padding: 0 0 0 0;\n",
              "      width: 32px;\n",
              "    }\n",
              "\n",
              "    .colab-df-convert:hover {\n",
              "      background-color: #E2EBFA;\n",
              "      box-shadow: 0px 1px 2px rgba(60, 64, 67, 0.3), 0px 1px 3px 1px rgba(60, 64, 67, 0.15);\n",
              "      fill: #174EA6;\n",
              "    }\n",
              "\n",
              "    .colab-df-buttons div {\n",
              "      margin-bottom: 4px;\n",
              "    }\n",
              "\n",
              "    [theme=dark] .colab-df-convert {\n",
              "      background-color: #3B4455;\n",
              "      fill: #D2E3FC;\n",
              "    }\n",
              "\n",
              "    [theme=dark] .colab-df-convert:hover {\n",
              "      background-color: #434B5C;\n",
              "      box-shadow: 0px 1px 3px 1px rgba(0, 0, 0, 0.15);\n",
              "      filter: drop-shadow(0px 1px 2px rgba(0, 0, 0, 0.3));\n",
              "      fill: #FFFFFF;\n",
              "    }\n",
              "  </style>\n",
              "\n",
              "    <script>\n",
              "      const buttonEl =\n",
              "        document.querySelector('#df-557b73c0-6d0d-441b-99c8-751ec03b0234 button.colab-df-convert');\n",
              "      buttonEl.style.display =\n",
              "        google.colab.kernel.accessAllowed ? 'block' : 'none';\n",
              "\n",
              "      async function convertToInteractive(key) {\n",
              "        const element = document.querySelector('#df-557b73c0-6d0d-441b-99c8-751ec03b0234');\n",
              "        const dataTable =\n",
              "          await google.colab.kernel.invokeFunction('convertToInteractive',\n",
              "                                                    [key], {});\n",
              "        if (!dataTable) return;\n",
              "\n",
              "        const docLinkHtml = 'Like what you see? Visit the ' +\n",
              "          '<a target=\"_blank\" href=https://colab.research.google.com/notebooks/data_table.ipynb>data table notebook</a>'\n",
              "          + ' to learn more about interactive tables.';\n",
              "        element.innerHTML = '';\n",
              "        dataTable['output_type'] = 'display_data';\n",
              "        await google.colab.output.renderOutput(dataTable, element);\n",
              "        const docLink = document.createElement('div');\n",
              "        docLink.innerHTML = docLinkHtml;\n",
              "        element.appendChild(docLink);\n",
              "      }\n",
              "    </script>\n",
              "  </div>\n",
              "\n",
              "\n",
              "<div id=\"df-efe8e2dc-f1df-4a2a-a242-8fa6f549f93b\">\n",
              "  <button class=\"colab-df-quickchart\" onclick=\"quickchart('df-efe8e2dc-f1df-4a2a-a242-8fa6f549f93b')\"\n",
              "            title=\"Suggest charts\"\n",
              "            style=\"display:none;\">\n",
              "\n",
              "<svg xmlns=\"http://www.w3.org/2000/svg\" height=\"24px\"viewBox=\"0 0 24 24\"\n",
              "     width=\"24px\">\n",
              "    <g>\n",
              "        <path d=\"M19 3H5c-1.1 0-2 .9-2 2v14c0 1.1.9 2 2 2h14c1.1 0 2-.9 2-2V5c0-1.1-.9-2-2-2zM9 17H7v-7h2v7zm4 0h-2V7h2v10zm4 0h-2v-4h2v4z\"/>\n",
              "    </g>\n",
              "</svg>\n",
              "  </button>\n",
              "\n",
              "<style>\n",
              "  .colab-df-quickchart {\n",
              "      --bg-color: #E8F0FE;\n",
              "      --fill-color: #1967D2;\n",
              "      --hover-bg-color: #E2EBFA;\n",
              "      --hover-fill-color: #174EA6;\n",
              "      --disabled-fill-color: #AAA;\n",
              "      --disabled-bg-color: #DDD;\n",
              "  }\n",
              "\n",
              "  [theme=dark] .colab-df-quickchart {\n",
              "      --bg-color: #3B4455;\n",
              "      --fill-color: #D2E3FC;\n",
              "      --hover-bg-color: #434B5C;\n",
              "      --hover-fill-color: #FFFFFF;\n",
              "      --disabled-bg-color: #3B4455;\n",
              "      --disabled-fill-color: #666;\n",
              "  }\n",
              "\n",
              "  .colab-df-quickchart {\n",
              "    background-color: var(--bg-color);\n",
              "    border: none;\n",
              "    border-radius: 50%;\n",
              "    cursor: pointer;\n",
              "    display: none;\n",
              "    fill: var(--fill-color);\n",
              "    height: 32px;\n",
              "    padding: 0;\n",
              "    width: 32px;\n",
              "  }\n",
              "\n",
              "  .colab-df-quickchart:hover {\n",
              "    background-color: var(--hover-bg-color);\n",
              "    box-shadow: 0 1px 2px rgba(60, 64, 67, 0.3), 0 1px 3px 1px rgba(60, 64, 67, 0.15);\n",
              "    fill: var(--button-hover-fill-color);\n",
              "  }\n",
              "\n",
              "  .colab-df-quickchart-complete:disabled,\n",
              "  .colab-df-quickchart-complete:disabled:hover {\n",
              "    background-color: var(--disabled-bg-color);\n",
              "    fill: var(--disabled-fill-color);\n",
              "    box-shadow: none;\n",
              "  }\n",
              "\n",
              "  .colab-df-spinner {\n",
              "    border: 2px solid var(--fill-color);\n",
              "    border-color: transparent;\n",
              "    border-bottom-color: var(--fill-color);\n",
              "    animation:\n",
              "      spin 1s steps(1) infinite;\n",
              "  }\n",
              "\n",
              "  @keyframes spin {\n",
              "    0% {\n",
              "      border-color: transparent;\n",
              "      border-bottom-color: var(--fill-color);\n",
              "      border-left-color: var(--fill-color);\n",
              "    }\n",
              "    20% {\n",
              "      border-color: transparent;\n",
              "      border-left-color: var(--fill-color);\n",
              "      border-top-color: var(--fill-color);\n",
              "    }\n",
              "    30% {\n",
              "      border-color: transparent;\n",
              "      border-left-color: var(--fill-color);\n",
              "      border-top-color: var(--fill-color);\n",
              "      border-right-color: var(--fill-color);\n",
              "    }\n",
              "    40% {\n",
              "      border-color: transparent;\n",
              "      border-right-color: var(--fill-color);\n",
              "      border-top-color: var(--fill-color);\n",
              "    }\n",
              "    60% {\n",
              "      border-color: transparent;\n",
              "      border-right-color: var(--fill-color);\n",
              "    }\n",
              "    80% {\n",
              "      border-color: transparent;\n",
              "      border-right-color: var(--fill-color);\n",
              "      border-bottom-color: var(--fill-color);\n",
              "    }\n",
              "    90% {\n",
              "      border-color: transparent;\n",
              "      border-bottom-color: var(--fill-color);\n",
              "    }\n",
              "  }\n",
              "</style>\n",
              "\n",
              "  <script>\n",
              "    async function quickchart(key) {\n",
              "      const quickchartButtonEl =\n",
              "        document.querySelector('#' + key + ' button');\n",
              "      quickchartButtonEl.disabled = true;  // To prevent multiple clicks.\n",
              "      quickchartButtonEl.classList.add('colab-df-spinner');\n",
              "      try {\n",
              "        const charts = await google.colab.kernel.invokeFunction(\n",
              "            'suggestCharts', [key], {});\n",
              "      } catch (error) {\n",
              "        console.error('Error during call to suggestCharts:', error);\n",
              "      }\n",
              "      quickchartButtonEl.classList.remove('colab-df-spinner');\n",
              "      quickchartButtonEl.classList.add('colab-df-quickchart-complete');\n",
              "    }\n",
              "    (() => {\n",
              "      let quickchartButtonEl =\n",
              "        document.querySelector('#df-efe8e2dc-f1df-4a2a-a242-8fa6f549f93b button');\n",
              "      quickchartButtonEl.style.display =\n",
              "        google.colab.kernel.accessAllowed ? 'block' : 'none';\n",
              "    })();\n",
              "  </script>\n",
              "</div>\n",
              "    </div>\n",
              "  </div>\n"
            ],
            "application/vnd.google.colaboratory.intrinsic+json": {
              "type": "dataframe",
              "variable_name": "df"
            }
          },
          "metadata": {},
          "execution_count": 56
        }
      ]
    },
    {
      "cell_type": "code",
      "source": [
        "df.isnull().sum()"
      ],
      "metadata": {
        "colab": {
          "base_uri": "https://localhost:8080/"
        },
        "id": "vhbtUfwgL39t",
        "outputId": "ba9c8cfd-68e8-493a-f32e-2ea8a3d819aa"
      },
      "execution_count": 57,
      "outputs": [
        {
          "output_type": "execute_result",
          "data": {
            "text/plain": [
              "id                         0\n",
              "dateAdded                  0\n",
              "dateUpdated                0\n",
              "address                    0\n",
              "categories                 0\n",
              "primaryCategories          0\n",
              "city                       0\n",
              "country                    0\n",
              "keys                       0\n",
              "latitude                   0\n",
              "longitude                  0\n",
              "name                       0\n",
              "postalCode                 0\n",
              "province                   0\n",
              "reviews.date               0\n",
              "reviews.dateSeen           0\n",
              "reviews.rating             0\n",
              "reviews.sourceURLs         0\n",
              "reviews.text               1\n",
              "reviews.title              1\n",
              "reviews.userCity        5836\n",
              "reviews.userProvince    7295\n",
              "reviews.username           0\n",
              "sourceURLs                 0\n",
              "websites                   0\n",
              "dtype: int64"
            ]
          },
          "metadata": {},
          "execution_count": 57
        }
      ]
    },
    {
      "cell_type": "code",
      "source": [
        "df.shape"
      ],
      "metadata": {
        "colab": {
          "base_uri": "https://localhost:8080/"
        },
        "id": "NT7of4Q1OFzG",
        "outputId": "2b0c391d-3a33-4313-cc9f-fd5030c33691"
      },
      "execution_count": 58,
      "outputs": [
        {
          "output_type": "execute_result",
          "data": {
            "text/plain": [
              "(10000, 25)"
            ]
          },
          "metadata": {},
          "execution_count": 58
        }
      ]
    },
    {
      "cell_type": "code",
      "source": [
        "df = df.dropna(subset=['reviews.text'])"
      ],
      "metadata": {
        "id": "uYxoz95WN6_r"
      },
      "execution_count": 59,
      "outputs": []
    },
    {
      "cell_type": "code",
      "source": [
        "print(df['reviews.rating'])"
      ],
      "metadata": {
        "colab": {
          "base_uri": "https://localhost:8080/"
        },
        "id": "JbUTh-sxMDqq",
        "outputId": "75b55301-310f-47dc-8986-7a16fd3282e4"
      },
      "execution_count": 60,
      "outputs": [
        {
          "output_type": "stream",
          "name": "stdout",
          "text": [
            "0       5.0\n",
            "1       5.0\n",
            "2       5.0\n",
            "3       2.0\n",
            "4       5.0\n",
            "       ... \n",
            "9995    3.0\n",
            "9996    4.0\n",
            "9997    4.0\n",
            "9998    1.0\n",
            "9999    1.0\n",
            "Name: reviews.rating, Length: 9999, dtype: float64\n"
          ]
        }
      ]
    },
    {
      "cell_type": "code",
      "source": [
        "df['reviews.rating'].unique()"
      ],
      "metadata": {
        "colab": {
          "base_uri": "https://localhost:8080/"
        },
        "id": "xrOangjTNRdv",
        "outputId": "f435efe6-4633-4d37-a3fa-7d3f9c4bcbf9"
      },
      "execution_count": 61,
      "outputs": [
        {
          "output_type": "execute_result",
          "data": {
            "text/plain": [
              "array([5.  , 2.  , 4.  , 3.  , 1.  , 4.8 , 4.6 , 3.55, 4.4 , 4.15, 2.5 ,\n",
              "       3.95, 2.9 , 3.35, 3.75, 4.5 , 2.1 , 1.65, 3.15, 2.7 , 1.45, 2.75,\n",
              "       2.3 , 3.5 , 4.25, 1.25, 1.9 , 3.45, 3.25, 4.75])"
            ]
          },
          "metadata": {},
          "execution_count": 61
        }
      ]
    },
    {
      "cell_type": "code",
      "source": [
        "# Map ratings to binary sentiment labels\n",
        "df['sentiment'] = df['reviews.rating'].apply(lambda x: 0 if x <= 2 else 1)  # 0 for negative, 1 for positive"
      ],
      "metadata": {
        "id": "4b3HMjPuMbvk"
      },
      "execution_count": 62,
      "outputs": []
    },
    {
      "cell_type": "code",
      "source": [
        "df.head()"
      ],
      "metadata": {
        "colab": {
          "base_uri": "https://localhost:8080/",
          "height": 603
        },
        "id": "65s8GEMrM_aK",
        "outputId": "78732d59-1144-4659-87c6-25397da76186"
      },
      "execution_count": 63,
      "outputs": [
        {
          "output_type": "execute_result",
          "data": {
            "text/plain": [
              "                     id             dateAdded           dateUpdated  \\\n",
              "0  AVwc252WIN2L1WUfpqLP  2016-10-30T21:42:42Z  2018-09-10T21:06:27Z   \n",
              "1  AVwc252WIN2L1WUfpqLP  2016-10-30T21:42:42Z  2018-09-10T21:06:27Z   \n",
              "2  AVwc252WIN2L1WUfpqLP  2016-10-30T21:42:42Z  2018-09-10T21:06:27Z   \n",
              "3  AVwdOclqIN2L1WUfti38  2015-11-28T19:19:35Z  2018-09-10T21:06:16Z   \n",
              "4  AVwdOclqIN2L1WUfti38  2015-11-28T19:19:35Z  2018-09-10T21:06:16Z   \n",
              "\n",
              "             address                                         categories  \\\n",
              "0  5921 Valencia Cir  Hotels,Hotels and motels,Hotel and motel reser...   \n",
              "1  5921 Valencia Cir  Hotels,Hotels and motels,Hotel and motel reser...   \n",
              "2  5921 Valencia Cir  Hotels,Hotels and motels,Hotel and motel reser...   \n",
              "3     7520 Teague Rd  Hotels,Hotels and motels,Travel agencies and b...   \n",
              "4     7520 Teague Rd  Hotels,Hotels and motels,Travel agencies and b...   \n",
              "\n",
              "               primaryCategories             city country  \\\n",
              "0  Accommodation & Food Services  Rancho Santa Fe      US   \n",
              "1  Accommodation & Food Services  Rancho Santa Fe      US   \n",
              "2  Accommodation & Food Services  Rancho Santa Fe      US   \n",
              "3  Accommodation & Food Services          Hanover      US   \n",
              "4  Accommodation & Food Services          Hanover      US   \n",
              "\n",
              "                                            keys   latitude  ...  \\\n",
              "0  us/ca/ranchosantafe/5921valenciacir/359754519  32.990959  ...   \n",
              "1  us/ca/ranchosantafe/5921valenciacir/359754519  32.990959  ...   \n",
              "2  us/ca/ranchosantafe/5921valenciacir/359754519  32.990959  ...   \n",
              "3         us/md/hanover/7520teaguerd/-2043779672  39.155929  ...   \n",
              "4         us/md/hanover/7520teaguerd/-2043779672  39.155929  ...   \n",
              "\n",
              "   reviews.rating                                 reviews.sourceURLs  \\\n",
              "0             5.0    https://www.hotels.com/hotel/125419/reviews%20/   \n",
              "1             5.0    https://www.hotels.com/hotel/125419/reviews%20/   \n",
              "2             5.0    https://www.hotels.com/hotel/125419/reviews%20/   \n",
              "3             2.0  https://www.tripadvisor.com/Hotel_Review-g4118...   \n",
              "4             5.0  https://www.tripadvisor.com/Hotel_Review-g4118...   \n",
              "\n",
              "                                        reviews.text  \\\n",
              "0  Our experience at Rancho Valencia was absolute...   \n",
              "1  Amazing place. Everyone was extremely warm and...   \n",
              "2  We booked a 3 night stay at Rancho Valencia to...   \n",
              "3  Currently in bed writing this for the past hr ...   \n",
              "4  I live in Md and the Aloft is my Home away fro...   \n",
              "\n",
              "                              reviews.title reviews.userCity  \\\n",
              "0           Best romantic vacation ever!!!!              NaN   \n",
              "1                      Sweet sweet serenity              NaN   \n",
              "2           Amazing Property and Experience              NaN   \n",
              "3  Never again...beware, if you want sleep.         Richmond   \n",
              "4                      ALWAYS GREAT STAY...           Laurel   \n",
              "\n",
              "  reviews.userProvince  reviews.username  \\\n",
              "0                  NaN             Paula   \n",
              "1                  NaN                 D   \n",
              "2                  NaN               Ron   \n",
              "3                   VA         jaeem2016   \n",
              "4                   MD        MamaNiaOne   \n",
              "\n",
              "                                          sourceURLs  \\\n",
              "0  http://www.hotels.com/ho125419/%25252525253Flo...   \n",
              "1  http://www.hotels.com/ho125419/%25252525253Flo...   \n",
              "2  http://www.hotels.com/ho125419/%25252525253Flo...   \n",
              "3  http://www.yellowbook.com/profile/aloft-arunde...   \n",
              "4  http://www.yellowbook.com/profile/aloft-arunde...   \n",
              "\n",
              "                                            websites sentiment  \n",
              "0                      http://www.ranchovalencia.com         1  \n",
              "1                      http://www.ranchovalencia.com         1  \n",
              "2                      http://www.ranchovalencia.com         1  \n",
              "3  http://www.starwoodhotels.com/alofthotels/prop...         0  \n",
              "4  http://www.starwoodhotels.com/alofthotels/prop...         1  \n",
              "\n",
              "[5 rows x 26 columns]"
            ],
            "text/html": [
              "\n",
              "  <div id=\"df-c1de399f-cfe1-40b5-9c38-c9e1b2e8b460\" class=\"colab-df-container\">\n",
              "    <div>\n",
              "<style scoped>\n",
              "    .dataframe tbody tr th:only-of-type {\n",
              "        vertical-align: middle;\n",
              "    }\n",
              "\n",
              "    .dataframe tbody tr th {\n",
              "        vertical-align: top;\n",
              "    }\n",
              "\n",
              "    .dataframe thead th {\n",
              "        text-align: right;\n",
              "    }\n",
              "</style>\n",
              "<table border=\"1\" class=\"dataframe\">\n",
              "  <thead>\n",
              "    <tr style=\"text-align: right;\">\n",
              "      <th></th>\n",
              "      <th>id</th>\n",
              "      <th>dateAdded</th>\n",
              "      <th>dateUpdated</th>\n",
              "      <th>address</th>\n",
              "      <th>categories</th>\n",
              "      <th>primaryCategories</th>\n",
              "      <th>city</th>\n",
              "      <th>country</th>\n",
              "      <th>keys</th>\n",
              "      <th>latitude</th>\n",
              "      <th>...</th>\n",
              "      <th>reviews.rating</th>\n",
              "      <th>reviews.sourceURLs</th>\n",
              "      <th>reviews.text</th>\n",
              "      <th>reviews.title</th>\n",
              "      <th>reviews.userCity</th>\n",
              "      <th>reviews.userProvince</th>\n",
              "      <th>reviews.username</th>\n",
              "      <th>sourceURLs</th>\n",
              "      <th>websites</th>\n",
              "      <th>sentiment</th>\n",
              "    </tr>\n",
              "  </thead>\n",
              "  <tbody>\n",
              "    <tr>\n",
              "      <th>0</th>\n",
              "      <td>AVwc252WIN2L1WUfpqLP</td>\n",
              "      <td>2016-10-30T21:42:42Z</td>\n",
              "      <td>2018-09-10T21:06:27Z</td>\n",
              "      <td>5921 Valencia Cir</td>\n",
              "      <td>Hotels,Hotels and motels,Hotel and motel reser...</td>\n",
              "      <td>Accommodation &amp; Food Services</td>\n",
              "      <td>Rancho Santa Fe</td>\n",
              "      <td>US</td>\n",
              "      <td>us/ca/ranchosantafe/5921valenciacir/359754519</td>\n",
              "      <td>32.990959</td>\n",
              "      <td>...</td>\n",
              "      <td>5.0</td>\n",
              "      <td>https://www.hotels.com/hotel/125419/reviews%20/</td>\n",
              "      <td>Our experience at Rancho Valencia was absolute...</td>\n",
              "      <td>Best romantic vacation ever!!!!</td>\n",
              "      <td>NaN</td>\n",
              "      <td>NaN</td>\n",
              "      <td>Paula</td>\n",
              "      <td>http://www.hotels.com/ho125419/%25252525253Flo...</td>\n",
              "      <td>http://www.ranchovalencia.com</td>\n",
              "      <td>1</td>\n",
              "    </tr>\n",
              "    <tr>\n",
              "      <th>1</th>\n",
              "      <td>AVwc252WIN2L1WUfpqLP</td>\n",
              "      <td>2016-10-30T21:42:42Z</td>\n",
              "      <td>2018-09-10T21:06:27Z</td>\n",
              "      <td>5921 Valencia Cir</td>\n",
              "      <td>Hotels,Hotels and motels,Hotel and motel reser...</td>\n",
              "      <td>Accommodation &amp; Food Services</td>\n",
              "      <td>Rancho Santa Fe</td>\n",
              "      <td>US</td>\n",
              "      <td>us/ca/ranchosantafe/5921valenciacir/359754519</td>\n",
              "      <td>32.990959</td>\n",
              "      <td>...</td>\n",
              "      <td>5.0</td>\n",
              "      <td>https://www.hotels.com/hotel/125419/reviews%20/</td>\n",
              "      <td>Amazing place. Everyone was extremely warm and...</td>\n",
              "      <td>Sweet sweet serenity</td>\n",
              "      <td>NaN</td>\n",
              "      <td>NaN</td>\n",
              "      <td>D</td>\n",
              "      <td>http://www.hotels.com/ho125419/%25252525253Flo...</td>\n",
              "      <td>http://www.ranchovalencia.com</td>\n",
              "      <td>1</td>\n",
              "    </tr>\n",
              "    <tr>\n",
              "      <th>2</th>\n",
              "      <td>AVwc252WIN2L1WUfpqLP</td>\n",
              "      <td>2016-10-30T21:42:42Z</td>\n",
              "      <td>2018-09-10T21:06:27Z</td>\n",
              "      <td>5921 Valencia Cir</td>\n",
              "      <td>Hotels,Hotels and motels,Hotel and motel reser...</td>\n",
              "      <td>Accommodation &amp; Food Services</td>\n",
              "      <td>Rancho Santa Fe</td>\n",
              "      <td>US</td>\n",
              "      <td>us/ca/ranchosantafe/5921valenciacir/359754519</td>\n",
              "      <td>32.990959</td>\n",
              "      <td>...</td>\n",
              "      <td>5.0</td>\n",
              "      <td>https://www.hotels.com/hotel/125419/reviews%20/</td>\n",
              "      <td>We booked a 3 night stay at Rancho Valencia to...</td>\n",
              "      <td>Amazing Property and Experience</td>\n",
              "      <td>NaN</td>\n",
              "      <td>NaN</td>\n",
              "      <td>Ron</td>\n",
              "      <td>http://www.hotels.com/ho125419/%25252525253Flo...</td>\n",
              "      <td>http://www.ranchovalencia.com</td>\n",
              "      <td>1</td>\n",
              "    </tr>\n",
              "    <tr>\n",
              "      <th>3</th>\n",
              "      <td>AVwdOclqIN2L1WUfti38</td>\n",
              "      <td>2015-11-28T19:19:35Z</td>\n",
              "      <td>2018-09-10T21:06:16Z</td>\n",
              "      <td>7520 Teague Rd</td>\n",
              "      <td>Hotels,Hotels and motels,Travel agencies and b...</td>\n",
              "      <td>Accommodation &amp; Food Services</td>\n",
              "      <td>Hanover</td>\n",
              "      <td>US</td>\n",
              "      <td>us/md/hanover/7520teaguerd/-2043779672</td>\n",
              "      <td>39.155929</td>\n",
              "      <td>...</td>\n",
              "      <td>2.0</td>\n",
              "      <td>https://www.tripadvisor.com/Hotel_Review-g4118...</td>\n",
              "      <td>Currently in bed writing this for the past hr ...</td>\n",
              "      <td>Never again...beware, if you want sleep.</td>\n",
              "      <td>Richmond</td>\n",
              "      <td>VA</td>\n",
              "      <td>jaeem2016</td>\n",
              "      <td>http://www.yellowbook.com/profile/aloft-arunde...</td>\n",
              "      <td>http://www.starwoodhotels.com/alofthotels/prop...</td>\n",
              "      <td>0</td>\n",
              "    </tr>\n",
              "    <tr>\n",
              "      <th>4</th>\n",
              "      <td>AVwdOclqIN2L1WUfti38</td>\n",
              "      <td>2015-11-28T19:19:35Z</td>\n",
              "      <td>2018-09-10T21:06:16Z</td>\n",
              "      <td>7520 Teague Rd</td>\n",
              "      <td>Hotels,Hotels and motels,Travel agencies and b...</td>\n",
              "      <td>Accommodation &amp; Food Services</td>\n",
              "      <td>Hanover</td>\n",
              "      <td>US</td>\n",
              "      <td>us/md/hanover/7520teaguerd/-2043779672</td>\n",
              "      <td>39.155929</td>\n",
              "      <td>...</td>\n",
              "      <td>5.0</td>\n",
              "      <td>https://www.tripadvisor.com/Hotel_Review-g4118...</td>\n",
              "      <td>I live in Md and the Aloft is my Home away fro...</td>\n",
              "      <td>ALWAYS GREAT STAY...</td>\n",
              "      <td>Laurel</td>\n",
              "      <td>MD</td>\n",
              "      <td>MamaNiaOne</td>\n",
              "      <td>http://www.yellowbook.com/profile/aloft-arunde...</td>\n",
              "      <td>http://www.starwoodhotels.com/alofthotels/prop...</td>\n",
              "      <td>1</td>\n",
              "    </tr>\n",
              "  </tbody>\n",
              "</table>\n",
              "<p>5 rows × 26 columns</p>\n",
              "</div>\n",
              "    <div class=\"colab-df-buttons\">\n",
              "\n",
              "  <div class=\"colab-df-container\">\n",
              "    <button class=\"colab-df-convert\" onclick=\"convertToInteractive('df-c1de399f-cfe1-40b5-9c38-c9e1b2e8b460')\"\n",
              "            title=\"Convert this dataframe to an interactive table.\"\n",
              "            style=\"display:none;\">\n",
              "\n",
              "  <svg xmlns=\"http://www.w3.org/2000/svg\" height=\"24px\" viewBox=\"0 -960 960 960\">\n",
              "    <path d=\"M120-120v-720h720v720H120Zm60-500h600v-160H180v160Zm220 220h160v-160H400v160Zm0 220h160v-160H400v160ZM180-400h160v-160H180v160Zm440 0h160v-160H620v160ZM180-180h160v-160H180v160Zm440 0h160v-160H620v160Z\"/>\n",
              "  </svg>\n",
              "    </button>\n",
              "\n",
              "  <style>\n",
              "    .colab-df-container {\n",
              "      display:flex;\n",
              "      gap: 12px;\n",
              "    }\n",
              "\n",
              "    .colab-df-convert {\n",
              "      background-color: #E8F0FE;\n",
              "      border: none;\n",
              "      border-radius: 50%;\n",
              "      cursor: pointer;\n",
              "      display: none;\n",
              "      fill: #1967D2;\n",
              "      height: 32px;\n",
              "      padding: 0 0 0 0;\n",
              "      width: 32px;\n",
              "    }\n",
              "\n",
              "    .colab-df-convert:hover {\n",
              "      background-color: #E2EBFA;\n",
              "      box-shadow: 0px 1px 2px rgba(60, 64, 67, 0.3), 0px 1px 3px 1px rgba(60, 64, 67, 0.15);\n",
              "      fill: #174EA6;\n",
              "    }\n",
              "\n",
              "    .colab-df-buttons div {\n",
              "      margin-bottom: 4px;\n",
              "    }\n",
              "\n",
              "    [theme=dark] .colab-df-convert {\n",
              "      background-color: #3B4455;\n",
              "      fill: #D2E3FC;\n",
              "    }\n",
              "\n",
              "    [theme=dark] .colab-df-convert:hover {\n",
              "      background-color: #434B5C;\n",
              "      box-shadow: 0px 1px 3px 1px rgba(0, 0, 0, 0.15);\n",
              "      filter: drop-shadow(0px 1px 2px rgba(0, 0, 0, 0.3));\n",
              "      fill: #FFFFFF;\n",
              "    }\n",
              "  </style>\n",
              "\n",
              "    <script>\n",
              "      const buttonEl =\n",
              "        document.querySelector('#df-c1de399f-cfe1-40b5-9c38-c9e1b2e8b460 button.colab-df-convert');\n",
              "      buttonEl.style.display =\n",
              "        google.colab.kernel.accessAllowed ? 'block' : 'none';\n",
              "\n",
              "      async function convertToInteractive(key) {\n",
              "        const element = document.querySelector('#df-c1de399f-cfe1-40b5-9c38-c9e1b2e8b460');\n",
              "        const dataTable =\n",
              "          await google.colab.kernel.invokeFunction('convertToInteractive',\n",
              "                                                    [key], {});\n",
              "        if (!dataTable) return;\n",
              "\n",
              "        const docLinkHtml = 'Like what you see? Visit the ' +\n",
              "          '<a target=\"_blank\" href=https://colab.research.google.com/notebooks/data_table.ipynb>data table notebook</a>'\n",
              "          + ' to learn more about interactive tables.';\n",
              "        element.innerHTML = '';\n",
              "        dataTable['output_type'] = 'display_data';\n",
              "        await google.colab.output.renderOutput(dataTable, element);\n",
              "        const docLink = document.createElement('div');\n",
              "        docLink.innerHTML = docLinkHtml;\n",
              "        element.appendChild(docLink);\n",
              "      }\n",
              "    </script>\n",
              "  </div>\n",
              "\n",
              "\n",
              "<div id=\"df-4935d82b-68f6-4196-8c77-38868a324342\">\n",
              "  <button class=\"colab-df-quickchart\" onclick=\"quickchart('df-4935d82b-68f6-4196-8c77-38868a324342')\"\n",
              "            title=\"Suggest charts\"\n",
              "            style=\"display:none;\">\n",
              "\n",
              "<svg xmlns=\"http://www.w3.org/2000/svg\" height=\"24px\"viewBox=\"0 0 24 24\"\n",
              "     width=\"24px\">\n",
              "    <g>\n",
              "        <path d=\"M19 3H5c-1.1 0-2 .9-2 2v14c0 1.1.9 2 2 2h14c1.1 0 2-.9 2-2V5c0-1.1-.9-2-2-2zM9 17H7v-7h2v7zm4 0h-2V7h2v10zm4 0h-2v-4h2v4z\"/>\n",
              "    </g>\n",
              "</svg>\n",
              "  </button>\n",
              "\n",
              "<style>\n",
              "  .colab-df-quickchart {\n",
              "      --bg-color: #E8F0FE;\n",
              "      --fill-color: #1967D2;\n",
              "      --hover-bg-color: #E2EBFA;\n",
              "      --hover-fill-color: #174EA6;\n",
              "      --disabled-fill-color: #AAA;\n",
              "      --disabled-bg-color: #DDD;\n",
              "  }\n",
              "\n",
              "  [theme=dark] .colab-df-quickchart {\n",
              "      --bg-color: #3B4455;\n",
              "      --fill-color: #D2E3FC;\n",
              "      --hover-bg-color: #434B5C;\n",
              "      --hover-fill-color: #FFFFFF;\n",
              "      --disabled-bg-color: #3B4455;\n",
              "      --disabled-fill-color: #666;\n",
              "  }\n",
              "\n",
              "  .colab-df-quickchart {\n",
              "    background-color: var(--bg-color);\n",
              "    border: none;\n",
              "    border-radius: 50%;\n",
              "    cursor: pointer;\n",
              "    display: none;\n",
              "    fill: var(--fill-color);\n",
              "    height: 32px;\n",
              "    padding: 0;\n",
              "    width: 32px;\n",
              "  }\n",
              "\n",
              "  .colab-df-quickchart:hover {\n",
              "    background-color: var(--hover-bg-color);\n",
              "    box-shadow: 0 1px 2px rgba(60, 64, 67, 0.3), 0 1px 3px 1px rgba(60, 64, 67, 0.15);\n",
              "    fill: var(--button-hover-fill-color);\n",
              "  }\n",
              "\n",
              "  .colab-df-quickchart-complete:disabled,\n",
              "  .colab-df-quickchart-complete:disabled:hover {\n",
              "    background-color: var(--disabled-bg-color);\n",
              "    fill: var(--disabled-fill-color);\n",
              "    box-shadow: none;\n",
              "  }\n",
              "\n",
              "  .colab-df-spinner {\n",
              "    border: 2px solid var(--fill-color);\n",
              "    border-color: transparent;\n",
              "    border-bottom-color: var(--fill-color);\n",
              "    animation:\n",
              "      spin 1s steps(1) infinite;\n",
              "  }\n",
              "\n",
              "  @keyframes spin {\n",
              "    0% {\n",
              "      border-color: transparent;\n",
              "      border-bottom-color: var(--fill-color);\n",
              "      border-left-color: var(--fill-color);\n",
              "    }\n",
              "    20% {\n",
              "      border-color: transparent;\n",
              "      border-left-color: var(--fill-color);\n",
              "      border-top-color: var(--fill-color);\n",
              "    }\n",
              "    30% {\n",
              "      border-color: transparent;\n",
              "      border-left-color: var(--fill-color);\n",
              "      border-top-color: var(--fill-color);\n",
              "      border-right-color: var(--fill-color);\n",
              "    }\n",
              "    40% {\n",
              "      border-color: transparent;\n",
              "      border-right-color: var(--fill-color);\n",
              "      border-top-color: var(--fill-color);\n",
              "    }\n",
              "    60% {\n",
              "      border-color: transparent;\n",
              "      border-right-color: var(--fill-color);\n",
              "    }\n",
              "    80% {\n",
              "      border-color: transparent;\n",
              "      border-right-color: var(--fill-color);\n",
              "      border-bottom-color: var(--fill-color);\n",
              "    }\n",
              "    90% {\n",
              "      border-color: transparent;\n",
              "      border-bottom-color: var(--fill-color);\n",
              "    }\n",
              "  }\n",
              "</style>\n",
              "\n",
              "  <script>\n",
              "    async function quickchart(key) {\n",
              "      const quickchartButtonEl =\n",
              "        document.querySelector('#' + key + ' button');\n",
              "      quickchartButtonEl.disabled = true;  // To prevent multiple clicks.\n",
              "      quickchartButtonEl.classList.add('colab-df-spinner');\n",
              "      try {\n",
              "        const charts = await google.colab.kernel.invokeFunction(\n",
              "            'suggestCharts', [key], {});\n",
              "      } catch (error) {\n",
              "        console.error('Error during call to suggestCharts:', error);\n",
              "      }\n",
              "      quickchartButtonEl.classList.remove('colab-df-spinner');\n",
              "      quickchartButtonEl.classList.add('colab-df-quickchart-complete');\n",
              "    }\n",
              "    (() => {\n",
              "      let quickchartButtonEl =\n",
              "        document.querySelector('#df-4935d82b-68f6-4196-8c77-38868a324342 button');\n",
              "      quickchartButtonEl.style.display =\n",
              "        google.colab.kernel.accessAllowed ? 'block' : 'none';\n",
              "    })();\n",
              "  </script>\n",
              "</div>\n",
              "    </div>\n",
              "  </div>\n"
            ],
            "application/vnd.google.colaboratory.intrinsic+json": {
              "type": "dataframe",
              "variable_name": "df"
            }
          },
          "metadata": {},
          "execution_count": 63
        }
      ]
    },
    {
      "cell_type": "code",
      "source": [
        "df.isnull().sum()"
      ],
      "metadata": {
        "colab": {
          "base_uri": "https://localhost:8080/"
        },
        "id": "6GyxaJSkO2lQ",
        "outputId": "b12b4a6b-d425-40af-cb76-7e40d17d5680"
      },
      "execution_count": 64,
      "outputs": [
        {
          "output_type": "execute_result",
          "data": {
            "text/plain": [
              "id                         0\n",
              "dateAdded                  0\n",
              "dateUpdated                0\n",
              "address                    0\n",
              "categories                 0\n",
              "primaryCategories          0\n",
              "city                       0\n",
              "country                    0\n",
              "keys                       0\n",
              "latitude                   0\n",
              "longitude                  0\n",
              "name                       0\n",
              "postalCode                 0\n",
              "province                   0\n",
              "reviews.date               0\n",
              "reviews.dateSeen           0\n",
              "reviews.rating             0\n",
              "reviews.sourceURLs         0\n",
              "reviews.text               0\n",
              "reviews.title              1\n",
              "reviews.userCity        5835\n",
              "reviews.userProvince    7294\n",
              "reviews.username           0\n",
              "sourceURLs                 0\n",
              "websites                   0\n",
              "sentiment                  0\n",
              "dtype: int64"
            ]
          },
          "metadata": {},
          "execution_count": 64
        }
      ]
    },
    {
      "cell_type": "code",
      "source": [
        "X, Y = df['reviews.text'], df['sentiment']"
      ],
      "metadata": {
        "id": "fNXpL3_5NgOB"
      },
      "execution_count": 65,
      "outputs": []
    },
    {
      "cell_type": "code",
      "source": [
        "# Split the dataset into training and testing sets\n",
        "X_train, X_test, Y_train, Y_test = train_test_split(X, Y, test_size=0.2, random_state=42)"
      ],
      "metadata": {
        "id": "17Pjim0CIgqR"
      },
      "execution_count": 66,
      "outputs": []
    },
    {
      "cell_type": "code",
      "source": [
        "# Vectorize the text data\n",
        "vectorizer = CountVectorizer()\n",
        "X_train_vec = vectorizer.fit_transform(X_train)\n",
        "X_test_vec = vectorizer.transform(X_test)"
      ],
      "metadata": {
        "id": "87M0xwW-Ii-z"
      },
      "execution_count": 67,
      "outputs": []
    },
    {
      "cell_type": "code",
      "source": [
        "# Train the Naive Bayes classifier\n",
        "model = MultinomialNB()\n",
        "model.fit(X_train_vec, Y_train)"
      ],
      "metadata": {
        "id": "Owhxn-mqIk4B",
        "colab": {
          "base_uri": "https://localhost:8080/",
          "height": 74
        },
        "outputId": "97447377-132e-4164-8cbf-f2d1b2886967"
      },
      "execution_count": 68,
      "outputs": [
        {
          "output_type": "execute_result",
          "data": {
            "text/plain": [
              "MultinomialNB()"
            ],
            "text/html": [
              "<style>#sk-container-id-2 {color: black;background-color: white;}#sk-container-id-2 pre{padding: 0;}#sk-container-id-2 div.sk-toggleable {background-color: white;}#sk-container-id-2 label.sk-toggleable__label {cursor: pointer;display: block;width: 100%;margin-bottom: 0;padding: 0.3em;box-sizing: border-box;text-align: center;}#sk-container-id-2 label.sk-toggleable__label-arrow:before {content: \"▸\";float: left;margin-right: 0.25em;color: #696969;}#sk-container-id-2 label.sk-toggleable__label-arrow:hover:before {color: black;}#sk-container-id-2 div.sk-estimator:hover label.sk-toggleable__label-arrow:before {color: black;}#sk-container-id-2 div.sk-toggleable__content {max-height: 0;max-width: 0;overflow: hidden;text-align: left;background-color: #f0f8ff;}#sk-container-id-2 div.sk-toggleable__content pre {margin: 0.2em;color: black;border-radius: 0.25em;background-color: #f0f8ff;}#sk-container-id-2 input.sk-toggleable__control:checked~div.sk-toggleable__content {max-height: 200px;max-width: 100%;overflow: auto;}#sk-container-id-2 input.sk-toggleable__control:checked~label.sk-toggleable__label-arrow:before {content: \"▾\";}#sk-container-id-2 div.sk-estimator input.sk-toggleable__control:checked~label.sk-toggleable__label {background-color: #d4ebff;}#sk-container-id-2 div.sk-label input.sk-toggleable__control:checked~label.sk-toggleable__label {background-color: #d4ebff;}#sk-container-id-2 input.sk-hidden--visually {border: 0;clip: rect(1px 1px 1px 1px);clip: rect(1px, 1px, 1px, 1px);height: 1px;margin: -1px;overflow: hidden;padding: 0;position: absolute;width: 1px;}#sk-container-id-2 div.sk-estimator {font-family: monospace;background-color: #f0f8ff;border: 1px dotted black;border-radius: 0.25em;box-sizing: border-box;margin-bottom: 0.5em;}#sk-container-id-2 div.sk-estimator:hover {background-color: #d4ebff;}#sk-container-id-2 div.sk-parallel-item::after {content: \"\";width: 100%;border-bottom: 1px solid gray;flex-grow: 1;}#sk-container-id-2 div.sk-label:hover label.sk-toggleable__label {background-color: #d4ebff;}#sk-container-id-2 div.sk-serial::before {content: \"\";position: absolute;border-left: 1px solid gray;box-sizing: border-box;top: 0;bottom: 0;left: 50%;z-index: 0;}#sk-container-id-2 div.sk-serial {display: flex;flex-direction: column;align-items: center;background-color: white;padding-right: 0.2em;padding-left: 0.2em;position: relative;}#sk-container-id-2 div.sk-item {position: relative;z-index: 1;}#sk-container-id-2 div.sk-parallel {display: flex;align-items: stretch;justify-content: center;background-color: white;position: relative;}#sk-container-id-2 div.sk-item::before, #sk-container-id-2 div.sk-parallel-item::before {content: \"\";position: absolute;border-left: 1px solid gray;box-sizing: border-box;top: 0;bottom: 0;left: 50%;z-index: -1;}#sk-container-id-2 div.sk-parallel-item {display: flex;flex-direction: column;z-index: 1;position: relative;background-color: white;}#sk-container-id-2 div.sk-parallel-item:first-child::after {align-self: flex-end;width: 50%;}#sk-container-id-2 div.sk-parallel-item:last-child::after {align-self: flex-start;width: 50%;}#sk-container-id-2 div.sk-parallel-item:only-child::after {width: 0;}#sk-container-id-2 div.sk-dashed-wrapped {border: 1px dashed gray;margin: 0 0.4em 0.5em 0.4em;box-sizing: border-box;padding-bottom: 0.4em;background-color: white;}#sk-container-id-2 div.sk-label label {font-family: monospace;font-weight: bold;display: inline-block;line-height: 1.2em;}#sk-container-id-2 div.sk-label-container {text-align: center;}#sk-container-id-2 div.sk-container {/* jupyter's `normalize.less` sets `[hidden] { display: none; }` but bootstrap.min.css set `[hidden] { display: none !important; }` so we also need the `!important` here to be able to override the default hidden behavior on the sphinx rendered scikit-learn.org. See: https://github.com/scikit-learn/scikit-learn/issues/21755 */display: inline-block !important;position: relative;}#sk-container-id-2 div.sk-text-repr-fallback {display: none;}</style><div id=\"sk-container-id-2\" class=\"sk-top-container\"><div class=\"sk-text-repr-fallback\"><pre>MultinomialNB()</pre><b>In a Jupyter environment, please rerun this cell to show the HTML representation or trust the notebook. <br />On GitHub, the HTML representation is unable to render, please try loading this page with nbviewer.org.</b></div><div class=\"sk-container\" hidden><div class=\"sk-item\"><div class=\"sk-estimator sk-toggleable\"><input class=\"sk-toggleable__control sk-hidden--visually\" id=\"sk-estimator-id-2\" type=\"checkbox\" checked><label for=\"sk-estimator-id-2\" class=\"sk-toggleable__label sk-toggleable__label-arrow\">MultinomialNB</label><div class=\"sk-toggleable__content\"><pre>MultinomialNB()</pre></div></div></div></div></div>"
            ]
          },
          "metadata": {},
          "execution_count": 68
        }
      ]
    },
    {
      "cell_type": "code",
      "source": [
        "# Predict sentiment on the test set\n",
        "Y_pred = model.predict(X_test_vec)"
      ],
      "metadata": {
        "id": "shHsHqKPIpEY"
      },
      "execution_count": 69,
      "outputs": []
    },
    {
      "cell_type": "code",
      "source": [
        "# Calculate accuracy\n",
        "accuracy = accuracy_score(Y_test, Y_pred)\n",
        "print(\"Accuracy:\", accuracy)"
      ],
      "metadata": {
        "id": "KQ7KQ-32IeRt",
        "colab": {
          "base_uri": "https://localhost:8080/"
        },
        "outputId": "b7c41f1c-cae9-48ce-8ac0-fa3496d1c0c4"
      },
      "execution_count": 70,
      "outputs": [
        {
          "output_type": "stream",
          "name": "stdout",
          "text": [
            "Accuracy: 0.9145\n"
          ]
        }
      ]
    },
    {
      "cell_type": "code",
      "source": [
        "# Compute confusion matrix\n",
        "cm = confusion_matrix(Y_test, Y_pred)\n",
        "\n",
        "# Plot confusion matrix as heatmap\n",
        "plt.figure(figsize=(8, 6))\n",
        "sns.heatmap(cm, annot=True, cmap='Blues', fmt='d', xticklabels=['Negative', 'Positive'], yticklabels=['Negative', 'Positive'])\n",
        "plt.xlabel('Predicted')\n",
        "plt.ylabel('True')\n",
        "plt.title('Confusion Matrix')\n",
        "plt.show()"
      ],
      "metadata": {
        "colab": {
          "base_uri": "https://localhost:8080/",
          "height": 564
        },
        "id": "-GSgX9PSPniP",
        "outputId": "1e036b77-f6c4-4bb4-a5fd-c3cefdc69742"
      },
      "execution_count": 71,
      "outputs": [
        {
          "output_type": "display_data",
          "data": {
            "text/plain": [
              "<Figure size 800x600 with 2 Axes>"
            ],
            "image/png": "[encoded data removed]"
          },
          "metadata": {}
        }
      ]
    },
    {
      "cell_type": "markdown",
      "source": [
        "# **Question 3- Implement the Sentiment Analysis using RNN.**"
      ],
      "metadata": {
        "id": "pIXdFhL5PyQW"
      }
    },
    {
      "cell_type": "code",
      "source": [
        "import tensorflow as tf\n",
        "from tensorflow.keras.preprocessing.text import Tokenizer\n",
        "from tensorflow.keras.preprocessing.sequence import pad_sequences\n",
        "from tensorflow.keras.models import Sequential\n",
        "from tensorflow.keras.layers import SimpleRNN, Embedding, Dense, Dropout, LSTM"
      ],
      "metadata": {
        "id": "X4qK5FDQPvSS"
      },
      "execution_count": 72,
      "outputs": []
    },
    {
      "cell_type": "code",
      "source": [
        "# Tokenize text data\n",
        "tokenizer = Tokenizer(num_words=100)  # Adjust num_words based on vocabulary size\n",
        "tokenizer.fit_on_texts(X_train)\n",
        "X_train_seq = tokenizer.texts_to_sequences(X_train)\n",
        "X_test_seq = tokenizer.texts_to_sequences(X_test)"
      ],
      "metadata": {
        "id": "bs9VsIkgROkp"
      },
      "execution_count": 73,
      "outputs": []
    },
    {
      "cell_type": "code",
      "source": [
        "# Pad sequences\n",
        "maxlen = 100  # Adjust maxlen based on maximum sequence length\n",
        "X_train_padded = pad_sequences(X_train_seq, maxlen=maxlen)\n",
        "X_test_padded = pad_sequences(X_test_seq, maxlen=maxlen)"
      ],
      "metadata": {
        "id": "yfK-NpffRWnh"
      },
      "execution_count": 74,
      "outputs": []
    },
    {
      "cell_type": "code",
      "source": [
        "# Build RNN model\n",
        "model = Sequential()\n",
        "model.add(Embedding(input_dim=1000, output_dim=128, input_length=maxlen))\n",
        "model.add(SimpleRNN(units=128, dropout=0.2, recurrent_dropout=0.2))\n",
        "model.add(Dense(units=1, activation='sigmoid'))"
      ],
      "metadata": {
        "id": "glDPJn3MRbEv"
      },
      "execution_count": 75,
      "outputs": []
    },
    {
      "cell_type": "code",
      "source": [
        "# Compile the model\n",
        "model.compile(loss='binary_crossentropy', optimizer='adam', metrics=['accuracy'])"
      ],
      "metadata": {
        "id": "DOro-UsERfEt"
      },
      "execution_count": 76,
      "outputs": []
    },
    {
      "cell_type": "code",
      "source": [
        "# Train the model\n",
        "history1 = model.fit(X_train_padded, Y_train, batch_size=32, epochs=5, validation_data=(X_test_padded, Y_test))"
      ],
      "metadata": {
        "colab": {
          "base_uri": "https://localhost:8080/"
        },
        "id": "dLGOOh8-RQQ8",
        "outputId": "112b0d5d-574e-4377-f9aa-a9d5850a761e"
      },
      "execution_count": 77,
      "outputs": [
        {
          "output_type": "stream",
          "name": "stdout",
          "text": [
            "Epoch 1/5\n",
            "250/250 [==============================] - 53s 201ms/step - loss: 0.3818 - accuracy: 0.8709 - val_loss: 0.3539 - val_accuracy: 0.8850\n",
            "Epoch 2/5\n",
            "250/250 [==============================] - 33s 130ms/step - loss: 0.3595 - accuracy: 0.8846 - val_loss: 0.3492 - val_accuracy: 0.8850\n",
            "Epoch 3/5\n",
            "250/250 [==============================] - 35s 140ms/step - loss: 0.3393 - accuracy: 0.8834 - val_loss: 0.3676 - val_accuracy: 0.8840\n",
            "Epoch 4/5\n",
            "250/250 [==============================] - 34s 137ms/step - loss: 0.3310 - accuracy: 0.8777 - val_loss: 0.3421 - val_accuracy: 0.8805\n",
            "Epoch 5/5\n",
            "250/250 [==============================] - 33s 132ms/step - loss: 0.3082 - accuracy: 0.8830 - val_loss: 0.2975 - val_accuracy: 0.8930\n"
          ]
        }
      ]
    },
    {
      "cell_type": "code",
      "source": [
        "# Plot training and validation loss\n",
        "plt.plot(history1.history['loss'], label='Training Loss')\n",
        "plt.plot(history1.history['val_loss'], label='Validation Loss')\n",
        "plt.xlabel('Epoch')\n",
        "plt.ylabel('Loss')\n",
        "plt.title('Training and Validation Loss')\n",
        "plt.legend()\n",
        "plt.show()\n",
        "\n",
        "# Plot training and validation accuracy\n",
        "plt.plot(history1.history['accuracy'], label='Training Accuracy')\n",
        "plt.plot(history1.history['val_accuracy'], label='Validation Accuracy')\n",
        "plt.xlabel('Epoch')\n",
        "plt.ylabel('Loss')\n",
        "plt.title('Training and Validation Accuracy')\n",
        "plt.legend()\n",
        "plt.show()"
      ],
      "metadata": {
        "colab": {
          "base_uri": "https://localhost:8080/",
          "height": 903
        },
        "id": "U-yAHZXGTNtG",
        "outputId": "d2295e6b-60da-4e33-bf63-53571ded7315"
      },
      "execution_count": 78,
      "outputs": [
        {
          "output_type": "display_data",
          "data": {
            "text/plain": [
              "<Figure size 640x480 with 1 Axes>"
            ],
            "image/png": "[encoded data removed]"
          },
          "metadata": {}
        },
        {
          "output_type": "execute_result",
          "data": {
            "text/plain": [
              "[<matplotlib.lines.Line2D at 0x7bb788237be0>]"
            ]
          },
          "metadata": {},
          "execution_count": 78
        },
        {
          "output_type": "display_data",
          "data": {
            "text/plain": [
              "<Figure size 640x480 with 1 Axes>"
            ],
            "image/png": "[encoded data removed]"
          },
          "metadata": {}
        }
      ]
    },
    {
      "cell_type": "code",
      "source": [
        "# Evaluate the model\n",
        "loss, accuracy = model.evaluate(X_test_padded, Y_test)\n",
        "print(\"Test Loss:\", loss)\n",
        "print(\"Test Accuracy:\", accuracy)"
      ],
      "metadata": {
        "colab": {
          "base_uri": "https://localhost:8080/"
        },
        "id": "JeFmmL6QRR3y",
        "outputId": "f54f5903-abea-4340-e004-bbdbfe093293"
      },
      "execution_count": 79,
      "outputs": [
        {
          "output_type": "stream",
          "name": "stdout",
          "text": [
            "63/63 [==============================] - 1s 10ms/step - loss: 0.2975 - accuracy: 0.8930\n",
            "Test Loss: 0.29750651121139526\n",
            "Test Accuracy: 0.8930000066757202\n"
          ]
        }
      ]
    },
    {
      "cell_type": "markdown",
      "source": [
        "# **Question 4- Implement the Sentiment Analysis using LSTM.**"
      ],
      "metadata": {
        "id": "Q4xkk3wqRske"
      }
    },
    {
      "cell_type": "code",
      "source": [
        "model = Sequential()\n",
        "model.add(Embedding(input_dim=1000, output_dim=128, input_length=maxlen))\n",
        "model.add(LSTM(units=128, dropout=0.2, recurrent_dropout=0.2))\n",
        "model.add(Dense(units=1, activation='sigmoid'))"
      ],
      "metadata": {
        "colab": {
          "base_uri": "https://localhost:8080/"
        },
        "id": "SsAV2LI2RxSF",
        "outputId": "80faf927-6d94-4994-831d-d279c4129629"
      },
      "execution_count": 80,
      "outputs": [
        {
          "output_type": "stream",
          "name": "stderr",
          "text": [
            "WARNING:tensorflow:Layer lstm will not use cuDNN kernels since it doesn't meet the criteria. It will use a generic GPU kernel as fallback when running on GPU.\n"
          ]
        }
      ]
    },
    {
      "cell_type": "code",
      "source": [
        "# Compile the model\n",
        "model.compile(loss='binary_crossentropy', optimizer='adam', metrics=['accuracy'])"
      ],
      "metadata": {
        "id": "mdoLziuKSETp"
      },
      "execution_count": 81,
      "outputs": []
    },
    {
      "cell_type": "code",
      "source": [
        "# Train the model\n",
        "history2 = model.fit(X_train_padded, Y_train, batch_size=32, epochs=5, validation_data=(X_test_padded, Y_test))"
      ],
      "metadata": {
        "colab": {
          "base_uri": "https://localhost:8080/"
        },
        "id": "WBclhO75SHCk",
        "outputId": "7314bfbd-b64b-4805-ac17-a243deef29dc"
      },
      "execution_count": null,
      "outputs": [
        {
          "output_type": "stream",
          "name": "stdout",
          "text": [
            "Epoch 1/5\n",
            "250/250 [==============================] - 108s 417ms/step - loss: 0.3319 - accuracy: 0.8829 - val_loss: 0.2864 - val_accuracy: 0.8890\n",
            "Epoch 2/5\n",
            "250/250 [==============================] - 86s 342ms/step - loss: 0.2663 - accuracy: 0.8939 - val_loss: 0.2830 - val_accuracy: 0.8745\n",
            "Epoch 3/5\n",
            " 18/250 [=>............................] - ETA: 1:25 - loss: 0.2736 - accuracy: 0.8785"
          ]
        }
      ]
    },
    {
      "cell_type": "code",
      "source": [
        "# Plot training and validation loss\n",
        "plt.plot(history2.history['loss'], label='Training Loss')\n",
        "plt.plot(history2.history['val_loss'], label='Validation Loss')\n",
        "plt.xlabel('Epoch')\n",
        "plt.ylabel('Loss')\n",
        "plt.title('Training and Validation Loss')\n",
        "plt.legend()\n",
        "plt.show()\n",
        "\n",
        "# Plot training and validation accuracy\n",
        "plt.plot(history2.history['accuracy'], label='Training Accuracy')\n",
        "plt.plot(history2.history['val_accuracy'], label='Validation Accuracy')\n",
        "plt.xlabel('Epoch')\n",
        "plt.ylabel('Loss')\n",
        "plt.title('Training and Validation Accuracy')\n",
        "plt.legend()\n",
        "plt.show()"
      ],
      "metadata": {
        "id": "2wpUA6sGS4nt"
      },
      "execution_count": null,
      "outputs": []
    },
    {
      "cell_type": "code",
      "source": [
        "# Evaluate the model\n",
        "loss, accuracy = model.evaluate(X_test_padded, Y_test)\n",
        "print(\"Test Loss:\", loss)\n",
        "print(\"Test Accuracy:\", accuracy)"
      ],
      "metadata": {
        "id": "E5YYmIJuSJ2K"
      },
      "execution_count": null,
      "outputs": []
    }
  ]
}